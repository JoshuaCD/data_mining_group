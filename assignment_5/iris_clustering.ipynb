{
 "cells": [
  {
   "cell_type": "markdown",
   "metadata": {},
   "source": [
    "### Libraries Needed"
   ]
  },
  {
   "cell_type": "code",
   "execution_count": 1,
   "metadata": {},
   "outputs": [],
   "source": [
    "# Libraries needed\n",
    "import pandas as pd \n",
    "import numpy as np\n",
    "import seaborn as sns\n",
    "from pandas_profiling import ProfileReport\n",
    "from sklearn.preprocessing import StandardScaler, normalize\n",
    "from sklearn.datasets import load_iris\n",
    "from sklearn.cluster import KMeans\n",
    "\n",
    "from sklearn.cluster import DBSCAN #Cluster method 2\n",
    "import scipy.cluster.hierarchy as shc #Cluster method 3\n",
    "\n",
    "from sklearn.decomposition import PCA  #using this for PCA\n",
    "from mpl_toolkits.mplot3d import Axes3D #using this for 3d scatter\n",
    "from matplotlib.colors import ListedColormap #using this for 3d scatter\n",
    "\n",
    "import matplotlib.pyplot as plt\n",
    "import plotly.express as px\n",
    "%matplotlib inline "
   ]
  },
  {
   "cell_type": "markdown",
   "metadata": {},
   "source": [
    "### The Data "
   ]
  },
  {
   "cell_type": "code",
   "execution_count": null,
   "metadata": {},
   "outputs": [],
   "source": [
    "# Load the Iris dataset\n",
    "\n",
    "iris = load_iris()\n",
    "iris_df = pd.DataFrame(data= np.c_[iris['data'], iris['target']],\n",
    "                     columns= iris['feature_names'] + ['target'])\n",
    "\n",
    "colors = iris_df['target'].replace([0,1,2],['r', 'g', 'b'])\n",
    "iris_df['target'] = iris_df['target'].replace([0,1,2],['setosa', 'versicolor', 'virginica'])\n",
    "iris_df.head()\n",
    "\n",
    "# Initial Summary with Pandas Profiler\n",
    "\n",
    "prof = ProfileReport(iris_df, title = \"Iris Dataset\")\n",
    "prof.to_notebook_iframe()\n"
   ]
  },
  {
   "cell_type": "code",
   "execution_count": null,
   "metadata": {},
   "outputs": [],
   "source": [
    "iris_k = iris_df.drop(columns='target')\n",
    "iris_df"
   ]
  },
  {
   "cell_type": "markdown",
   "metadata": {},
   "source": [
    "### Elbow Plot and K-Means Test"
   ]
  },
  {
   "cell_type": "code",
   "execution_count": null,
   "metadata": {},
   "outputs": [],
   "source": [
    "# Running K-means and creating Elbow Plot\n",
    "\n",
    "Inertia = list()\n",
    "Ks = range(1,10)   # Creates Ks from 1 to 10 to test representing number of clusters\n",
    "\n",
    "for k in Ks:\n",
    "    kmeanModel = KMeans(n_clusters=k)\n",
    "    kmeanModel.fit(iris_df.drop(columns='target'))\n",
    "    distortions.append(kmeanModel.inertia_)  # Records distortions for each value of K\n",
    "\n",
    "k_data= pd.DataFrame({'K-Value':Ks,         #Creating df of ks vs distorions\n",
    "                      'Inertia':Inertia\n",
    "                     })\n",
    "\n",
    "fig_dims = (11, 6)\n",
    "fig, ax = plt.subplots(figsize=fig_dims)\n",
    "\n",
    "sns.set_theme(style=\"whitegrid\")\n",
    "sns.pointplot(data=k_data,x='K-Value',y='Inertia',\n",
    "              markers=[\"o\"]).set(title='Eblow Plot of K-Means for Iris Data')"
   ]
  },
  {
   "cell_type": "markdown",
   "metadata": {},
   "source": [
    "To determine the optimal number of clusters, we have to select the value of k at the “elbow”. This is the point after which the distortions start decreasing in a linear fashion. Thus for the given data, we conclude that the optimal number of clusters for the data is 3."
   ]
  },
  {
   "cell_type": "markdown",
   "metadata": {},
   "source": [
    "### PCA"
   ]
  },
  {
   "cell_type": "code",
   "execution_count": null,
   "metadata": {},
   "outputs": [],
   "source": [
    "# Preparing data for PCA\n",
    "# PCA is effected by scale so we will need to scale the variables beforehand\n",
    "\n",
    "X = iris_df.drop(columns='target').values\n",
    "Y = iris_df.loc[:,['target']].values\n",
    "X = StandardScaler().fit_transform(X) # Standarizes the 4 numeric variables\n",
    "\n",
    "pca_3 = PCA(n_components=3)  # Creating a PCA with 3 components rather than 4\n",
    "pca_2 = PCA(n_components=2)  # Creating a PCA with 2 components rather than 4"
   ]
  },
  {
   "cell_type": "code",
   "execution_count": null,
   "metadata": {},
   "outputs": [],
   "source": [
    "# Converting the PCA data to Data Frames with target column\n",
    "\n",
    "principalComponents_3 = pca_3.fit_transform(X) # Converts to array\n",
    "principalComponents_2 = pca_2.fit_transform(X)\n",
    "pca_3_df = pd.DataFrame(data = principalComponents_3 # Converts to DF\n",
    "             , columns = ['PC1', 'PC2','PC3'])\n",
    "pca_2_df = pd.DataFrame(data = principalComponents_2\n",
    "             , columns = ['PC1', 'PC2'])\n",
    "\n",
    "pca_3_df['target'] = iris_df.loc[:,['target']]   # Re-adding the target column\n",
    "pca_2_df['target'] = iris_df.loc[:,['target']]"
   ]
  },
  {
   "cell_type": "code",
   "execution_count": null,
   "metadata": {},
   "outputs": [],
   "source": [
    "# Scatterplot of the iris data reduced to 2 Principal Components\n",
    "\n",
    "fig_dims = (6, 6)\n",
    "fig, ax = plt.subplots(figsize=fig_dims)\n",
    "sns.scatterplot(data=pca_2_df, x='PC1',y='PC2',hue='target',\n",
    "                style='target').set(title='2 Component PCA of Iris Data')"
   ]
  },
  {
   "cell_type": "code",
   "execution_count": null,
   "metadata": {},
   "outputs": [],
   "source": [
    "# Scatterplot of the iris data reduced to 3 Principal Components\n",
    "\n",
    "# Creating 3D axes\n",
    "fig = plt.figure(figsize=(6,6))\n",
    "ax = Axes3D(fig, auto_add_to_figure=False)\n",
    "fig.add_axes(ax)\n",
    "\n",
    "cmap = ListedColormap(sns.color_palette(\"husl\", 256).as_hex()) # Colormap magic\n",
    "\n",
    "scatter_3d = ax.scatter(pca_3_df['PC1'], pca_3_df['PC2'], pca_3_df['PC3'], c=colors,\n",
    "                         marker='o', cmap=cmap, alpha=1)\n",
    "\n",
    "ax.set_xlabel('PC1')\n",
    "ax.set_ylabel('PC2')\n",
    "ax.set_zlabel('PC3')\n",
    "legend = ax.legend(*scatter_3d.legend_elements(), title='Class')\n",
    "ax.add_artist(legend)\n",
    "plt.show()"
   ]
  },
  {
   "cell_type": "code",
   "execution_count": null,
   "metadata": {},
   "outputs": [],
   "source": []
  },
  {
   "cell_type": "code",
   "execution_count": null,
   "metadata": {},
   "outputs": [],
   "source": []
  },
  {
   "cell_type": "code",
   "execution_count": null,
   "metadata": {},
   "outputs": [],
   "source": []
  }
 ],
 "metadata": {
  "kernelspec": {
   "display_name": "Python 3",
   "language": "python",
   "name": "python3"
  },
  "language_info": {
   "codemirror_mode": {
    "name": "ipython",
    "version": 3
   },
   "file_extension": ".py",
   "mimetype": "text/x-python",
   "name": "python",
   "nbconvert_exporter": "python",
   "pygments_lexer": "ipython3",
   "version": "3.8.5"
  }
 },
 "nbformat": 4,
 "nbformat_minor": 4
}
