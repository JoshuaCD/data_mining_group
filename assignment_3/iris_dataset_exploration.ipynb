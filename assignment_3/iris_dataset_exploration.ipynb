{
 "cells": [
  {
   "cell_type": "markdown",
   "metadata": {},
   "source": [
    "# Iris Dataset Exploration\n",
    "\n",
    "## Explore the similarities, differences and relationships among three different Iris species in terms of their sepal and petal widths and lengths"
   ]
  },
  {
   "cell_type": "markdown",
   "metadata": {},
   "source": [
    "## Import Libraries"
   ]
  },
  {
   "cell_type": "code",
   "execution_count": null,
   "metadata": {},
   "outputs": [],
   "source": [
    "import pandas as pd\n",
    "import numpy as np\n",
    "import seaborn as sns\n",
    "import matplotlib.pyplot as plt\n",
    "import matplotlib\n",
    "from pandas_profiling import ProfileReport\n",
    "from sklearn.datasets import load_iris\n",
    "%matplotlib inline"
   ]
  },
  {
   "cell_type": "markdown",
   "metadata": {},
   "source": [
    "## Load Dataset, Explore and Display Features"
   ]
  },
  {
   "cell_type": "code",
   "execution_count": null,
   "metadata": {},
   "outputs": [],
   "source": [
    "iris = load_iris()\n",
    "iris_df = pd.DataFrame(data= np.c_[iris['data'], iris['target']],\n",
    "                     columns= iris['feature_names'] + ['target'])"
   ]
  },
  {
   "cell_type": "code",
   "execution_count": null,
   "metadata": {},
   "outputs": [],
   "source": [
    "iris"
   ]
  },
  {
   "cell_type": "code",
   "execution_count": null,
   "metadata": {},
   "outputs": [],
   "source": [
    "iris_df"
   ]
  },
  {
   "cell_type": "code",
   "execution_count": null,
   "metadata": {},
   "outputs": [],
   "source": [
    "iris_df['target'] = iris_df['target'].replace([0,1,2],['setosa', 'versicolor', 'virginica'])"
   ]
  },
  {
   "cell_type": "code",
   "execution_count": null,
   "metadata": {},
   "outputs": [],
   "source": [
    "iris_df"
   ]
  },
  {
   "cell_type": "code",
   "execution_count": null,
   "metadata": {},
   "outputs": [],
   "source": [
    "iris_df.shape"
   ]
  },
  {
   "cell_type": "code",
   "execution_count": null,
   "metadata": {},
   "outputs": [],
   "source": [
    "iris_df.info()"
   ]
  },
  {
   "cell_type": "code",
   "execution_count": null,
   "metadata": {},
   "outputs": [],
   "source": [
    "iris_df['target'].describe()"
   ]
  },
  {
   "cell_type": "code",
   "execution_count": null,
   "metadata": {},
   "outputs": [],
   "source": [
    "iris_df.describe()"
   ]
  },
  {
   "cell_type": "markdown",
   "metadata": {},
   "source": [
    "### Observations\n",
    "* The dataset contains 150 observations, has 4 predictive attributes and 1 target variable\n",
    "* The 4 predictive attributes are numerical, the target variable is categorical\n",
    "* Changed the target attribute labels to a descriptive string vs numerical category for ease in analysis\n",
    "* There are 3 unique target variables: setosa, versicolor and virginica; each a species of Iris\n",
    "* See the table above for numerical measures of the 4 predictive attributes. Note:\n",
    "    * petal length has the largest range and greatest variation of the 4 attributes, and also has the greatest difference of the 4 between its mean and median\n",
    "    * for the other three attributes, their mean approximates their median which suggests the mean is not affected by outliers"
   ]
  },
  {
   "cell_type": "markdown",
   "metadata": {},
   "source": [
    "## Explore the dataset using tools and libraries available in Python"
   ]
  },
  {
   "cell_type": "code",
   "execution_count": null,
   "metadata": {},
   "outputs": [],
   "source": [
    "profile = ProfileReport(iris_df)\n",
    "profile"
   ]
  },
  {
   "cell_type": "markdown",
   "metadata": {},
   "source": [
    "### Observations\n",
    "* The dataset has zero missing observations\n",
    "* The distributions of sepal length and sepal width are fairly normal\n",
    "* The distributions of petal length and petal width both have two distinct groupings\n",
    "* Correlation - because the 4 predictive attributes are all numerical, refer to the Pearson's r chart, above:\n",
    "    * Sepal width and sepal length appear to be uncorrelated\n",
    "    * Petal width and petal length appear to be highly correlated (positive correlation)\n",
    "    * Petal length and sepal length appear to be fairly correlated\n",
    "    * Petal width and sepal length also appear to be correlated, though less so than petal length and sepal length    \n",
    "* Correlation - see pair plot graphs below for visual confirmation of the above correlation observations"
   ]
  },
  {
   "cell_type": "markdown",
   "metadata": {},
   "source": [
    "## Calculations of dot product, norm and distance"
   ]
  },
  {
   "cell_type": "code",
   "execution_count": null,
   "metadata": {},
   "outputs": [],
   "source": [
    "# Calculate dot product between the sepal length vector vs the sepal width vector\n",
    "s_length = iris_df['sepal length (cm)']\n",
    "s_width = iris_df['sepal width (cm)']\n",
    "s_length.dot(s_width)"
   ]
  },
  {
   "cell_type": "code",
   "execution_count": null,
   "metadata": {},
   "outputs": [],
   "source": [
    "# Calculate the norm of the sepal length vectors\n",
    "s_length = iris_df['sepal length (cm)']\n",
    "sepal_length_norm = np.linalg.norm(s_length)\n",
    "sepal_length_norm"
   ]
  },
  {
   "cell_type": "code",
   "execution_count": null,
   "metadata": {},
   "outputs": [],
   "source": [
    "# Calculate the distance between the sepal length vector and the sepal width vector\n",
    "s_length = iris_df['sepal length (cm)']\n",
    "s_width = iris_df['sepal width (cm)']\n",
    "dist = (np.linalg.norm(s_length - s_width))\n",
    "dist"
   ]
  },
  {
   "cell_type": "markdown",
   "metadata": {},
   "source": [
    "## Visualizations"
   ]
  },
  {
   "cell_type": "code",
   "execution_count": null,
   "metadata": {},
   "outputs": [],
   "source": [
    "# Compare sepal width to sepal length\n",
    "plt.figure(figsize=(20,12))\n",
    "sns.scatterplot(x='sepal length (cm)', y='sepal width (cm)', data=iris_df);"
   ]
  },
  {
   "cell_type": "code",
   "execution_count": null,
   "metadata": {},
   "outputs": [],
   "source": [
    "# Compare sepal width to sepal length, color coded by petal length\n",
    "plt.figure(figsize=(20,12))\n",
    "sns.scatterplot(x='sepal length (cm)', y='sepal width (cm)', data=iris_df, hue='petal length (cm)', palette='Blues_r');"
   ]
  },
  {
   "cell_type": "code",
   "execution_count": null,
   "metadata": {},
   "outputs": [],
   "source": [
    "# Compare sepal width to sepal length, color coded by petal width\n",
    "plt.figure(figsize=(20,12))\n",
    "sns.scatterplot(x='sepal length (cm)', y='sepal width (cm)', data=iris_df, hue='petal width (cm)', palette='Blues_r');"
   ]
  },
  {
   "cell_type": "code",
   "execution_count": null,
   "metadata": {},
   "outputs": [],
   "source": [
    "# Scatter plot of petal length vs petal width\n",
    "plt.figure(figsize=(20,12))\n",
    "sns.scatterplot(x='petal length (cm)', y='petal width (cm)', data=iris_df);"
   ]
  },
  {
   "cell_type": "code",
   "execution_count": null,
   "metadata": {},
   "outputs": [],
   "source": [
    "# Compare sepal width to sepal length, color coded by petal length\n",
    "plt.figure(figsize=(20,12))\n",
    "sns.scatterplot(x='petal length (cm)', y='petal width (cm)', data=iris_df, hue='sepal length (cm)', palette='Blues_r');"
   ]
  },
  {
   "cell_type": "code",
   "execution_count": null,
   "metadata": {},
   "outputs": [],
   "source": [
    "# Compare sepal width to sepal length, color coded by petal length\n",
    "plt.figure(figsize=(20,12))\n",
    "sns.scatterplot(x='petal length (cm)', y='petal width (cm)', data=iris_df, hue='sepal width (cm)', palette='Blues_r');"
   ]
  },
  {
   "cell_type": "code",
   "execution_count": null,
   "metadata": {},
   "outputs": [],
   "source": [
    "sns.pairplot(iris_df, hue='target', palette=\"prism_r\");"
   ]
  },
  {
   "cell_type": "code",
   "execution_count": null,
   "metadata": {},
   "outputs": [],
   "source": [
    "sns.set_style(\"whitegrid\")\n",
    "  \n",
    "sns.boxplot(x = 'target', y = 'sepal length (cm)', data = iris_df);"
   ]
  },
  {
   "cell_type": "code",
   "execution_count": null,
   "metadata": {},
   "outputs": [],
   "source": [
    "sns.set_style(\"whitegrid\")\n",
    "sns.boxplot(x = 'target', y = 'sepal width (cm)', data = iris_df);"
   ]
  },
  {
   "cell_type": "code",
   "execution_count": null,
   "metadata": {},
   "outputs": [],
   "source": [
    "sns.set_style(\"whitegrid\")\n",
    "sns.boxplot(x = 'target', y = 'petal length (cm)', data = iris_df);"
   ]
  },
  {
   "cell_type": "code",
   "execution_count": null,
   "metadata": {},
   "outputs": [],
   "source": [
    "sns.set_style(\"whitegrid\")\n",
    "sns.boxplot(x = 'target', y = 'petal width (cm)', data = iris_df);"
   ]
  },
  {
   "cell_type": "code",
   "execution_count": null,
   "metadata": {},
   "outputs": [],
   "source": [
    "g = sns.PairGrid(iris_df)\n",
    "g.map_diag(plt.hist)\n",
    "g.map_upper(plt.scatter)\n",
    "g.map_lower(sns.kdeplot);"
   ]
  },
  {
   "cell_type": "markdown",
   "metadata": {},
   "source": [
    "### Observations (this is just a start, more to add......)\n",
    "* There doesn't appear to be a clear relationship between sepal width and sepal length in general\n",
    "* Botht the records with petals that are lower in length (1-3 cm) and those with petals that are lower in width (0.4-0.8 cm) primarily correspond to those with a sepal length less than 6 cm and a sepal width greater than 3 cm"
   ]
  },
  {
   "cell_type": "markdown",
   "metadata": {},
   "source": [
    "## Conclusions: (these are rough, just getting ideas down)\n",
    "* Sepal length and sepal width taken together are good indicators of the species Setosa\n",
    "* Petal length and petal width taken together give a pretty good breakout of all three species"
   ]
  }
 ],
 "metadata": {
  "kernelspec": {
   "display_name": "Python 3",
   "language": "python",
   "name": "python3"
  },
  "language_info": {
   "codemirror_mode": {
    "name": "ipython",
    "version": 3
   },
   "file_extension": ".py",
   "mimetype": "text/x-python",
   "name": "python",
   "nbconvert_exporter": "python",
   "pygments_lexer": "ipython3",
   "version": "3.8.5"
  }
 },
 "nbformat": 4,
 "nbformat_minor": 4
}
