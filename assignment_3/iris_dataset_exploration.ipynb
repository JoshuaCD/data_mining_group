{
 "cells": [
  {
   "cell_type": "markdown",
   "metadata": {},
   "source": [
    "# Iris Dataset Exploration\n",
    "\n",
    "## Explore the similarities, differences and relationships among three different Iris species in terms of their sepal and petal widths and lengths"
   ]
  },
  {
   "cell_type": "markdown",
   "metadata": {},
   "source": [
    "## Import Libraries"
   ]
  },
  {
   "cell_type": "code",
   "execution_count": null,
   "metadata": {},
   "outputs": [],
   "source": [
    "import pandas as pd\n",
    "import numpy as np\n",
    "import seaborn as sns\n",
    "import matplotlib.pyplot as plt\n",
    "import matplotlib\n",
    "from pandas_profiling import ProfileReport\n",
    "from sklearn.datasets import load_iris\n",
    "%matplotlib inline"
   ]
  },
  {
   "cell_type": "markdown",
   "metadata": {},
   "source": [
    "## Load Dataset, Explore and Display Features"
   ]
  },
  {
   "cell_type": "code",
   "execution_count": null,
   "metadata": {},
   "outputs": [],
   "source": [
    "iris = load_iris()\n",
    "iris_df = pd.DataFrame(data= np.c_[iris['data'], iris['target']],\n",
    "                     columns= iris['feature_names'] + ['target'])"
   ]
  },
  {
   "cell_type": "code",
   "execution_count": null,
   "metadata": {},
   "outputs": [],
   "source": [
    "iris"
   ]
  },
  {
   "cell_type": "code",
   "execution_count": null,
   "metadata": {},
   "outputs": [],
   "source": [
    "iris_df"
   ]
  },
  {
   "cell_type": "code",
   "execution_count": null,
   "metadata": {},
   "outputs": [],
   "source": [
    "iris_df['target'] = iris_df['target'].replace([0,1,2],['setosa', 'versicolor', 'virginica'])"
   ]
  },
  {
   "cell_type": "code",
   "execution_count": null,
   "metadata": {},
   "outputs": [],
   "source": [
    "iris_df"
   ]
  },
  {
   "cell_type": "code",
   "execution_count": null,
   "metadata": {},
   "outputs": [],
   "source": [
    "iris_df.shape"
   ]
  },
  {
   "cell_type": "code",
   "execution_count": null,
   "metadata": {},
   "outputs": [],
   "source": [
    "iris_df.info()"
   ]
  },
  {
   "cell_type": "code",
   "execution_count": null,
   "metadata": {},
   "outputs": [],
   "source": [
    "iris_df['target'].describe()"
   ]
  },
  {
   "cell_type": "code",
   "execution_count": null,
   "metadata": {},
   "outputs": [],
   "source": [
    "iris_df.describe()"
   ]
  },
  {
   "cell_type": "markdown",
   "metadata": {},
   "source": [
    "### Observations:\n",
    "* The dataset contains 150 observations, has 4 predictive attributes and 1 target variable\n",
    "* The 4 predictive attributes are numerical, the target variable is categorical\n",
    "* Changed the target attribute labels to a descriptive string vs numerical category for ease in analysis\n",
    "* There are 3 unique target variables: setosa, versicolor and virginica; each a species of Iris\n",
    "* See the table above for numerical measures of the 4 predictive attributes. Note:\n",
    "    * petal length has the largest range and greatest variation of the 4 attributes, and also has the greatest difference of the 4 between its mean and median\n",
    "    * for the other three attributes, their mean approximates their median which suggests the mean is not affected by outliers"
   ]
  },
  {
   "cell_type": "markdown",
   "metadata": {},
   "source": [
    "## Explore the dataset using tools and libraries available in Python"
   ]
  },
  {
   "cell_type": "code",
   "execution_count": null,
   "metadata": {},
   "outputs": [],
   "source": [
    "profile = ProfileReport(iris_df)\n",
    "profile"
   ]
  },
  {
   "cell_type": "code",
   "execution_count": null,
   "metadata": {},
   "outputs": [],
   "source": [
    "iris_df.corr()"
   ]
  },
  {
   "cell_type": "markdown",
   "metadata": {},
   "source": [
    "### Observations:\n",
    "\n",
    "* The dataset has zero missing observations\n",
    "* The distributions of sepal length and sepal width are fairly normal\n",
    "* The distributions of petal length and petal width both have two distinct groupings\n",
    "* Correlation - because the 4 predictive attributes are all numerical, refer to the Pearson's r chart, above:\n",
    "    * Sepal width and sepal length appear to be uncorrelated\n",
    "    * Petal width and petal length appear to be highly correlated (positive correlation)\n",
    "    * Petal length and sepal length appear to be fairly correlated\n",
    "    * Petal width and sepal length also appear to be correlated, though less so than petal length and sepal length    \n",
    "* Correlation - see pair plot graphs below for visual confirmation of the above correlation observations"
   ]
  },
  {
   "cell_type": "markdown",
   "metadata": {},
   "source": [
    "## Calculations of dot product, norm and distance"
   ]
  },
  {
   "cell_type": "code",
   "execution_count": null,
   "metadata": {},
   "outputs": [],
   "source": [
    "# First step: normalize  the two vectors using z-score normalization\n",
    "iris_df_norm = (iris_df - iris_df.mean()) / (iris_df.std())"
   ]
  },
  {
   "cell_type": "code",
   "execution_count": null,
   "metadata": {},
   "outputs": [],
   "source": [
    "iris_df_norm"
   ]
  },
  {
   "cell_type": "code",
   "execution_count": null,
   "metadata": {},
   "outputs": [],
   "source": [
    "# Calculate dot product between the sepal length vector vs the sepal width vector\n",
    "s_length = iris_df_norm['sepal length (cm)']\n",
    "s_width = iris_df_norm['sepal width (cm)']\n",
    "s_length.dot(s_width)"
   ]
  },
  {
   "cell_type": "code",
   "execution_count": null,
   "metadata": {},
   "outputs": [],
   "source": [
    "# Calculate the norm of the sepal length vectors\n",
    "s_length = iris_df_norm['sepal length (cm)']\n",
    "sepal_length_norm = np.linalg.norm(s_length)\n",
    "sepal_length_norm"
   ]
  },
  {
   "cell_type": "code",
   "execution_count": null,
   "metadata": {},
   "outputs": [],
   "source": [
    "# Calculate the norm of the sepal width vectors\n",
    "s_width = iris_df_norm['sepal width (cm)']\n",
    "sepal_width_norm = np.linalg.norm(s_width)\n",
    "sepal_width_norm"
   ]
  },
  {
   "cell_type": "code",
   "execution_count": null,
   "metadata": {},
   "outputs": [],
   "source": [
    "# Calculate the distance between the sepal length vector and the sepal width vector, \n",
    "# note we are using Euclidean distance, ie. \"straight line\"\n",
    "s_length = iris_df_norm['sepal length (cm)']\n",
    "s_width = iris_df_norm['sepal width (cm)']\n",
    "dist = (np.linalg.norm(s_length - s_width))\n",
    "dist"
   ]
  },
  {
   "cell_type": "markdown",
   "metadata": {},
   "source": [
    "### Observations:\n",
    "\n",
    "* The above calculations are meant to measure similarity between sepal length and sepal width (measures of proximity)\n",
    "\n",
    "    * The dot product between sepal length and sepal width is 2673.  The dot product can be used to calculate the cosine of the angle between the vectors(cosine similarity). The cosine of the angle between the two vectors is cos(theta) = dot product divided by the product of the lengths of each vector = -17.5179/(12.2066\\*12.2066)=-0.1176. This cosine indicates these vectors not very similar. This is supported by the fact that a cosine of zero would mean the angle between the vectors is 90% which indicates orthoganality, which means they have no similarity.  This cosine is close to zero.  Note that this dissimilarity is supported visually by the scatterplot in the next section, which does not indicate a strong relationship between the two attributes.\n",
    "    \n",
    "    * The Euclidean distance is another indicator of similarity/dissimilarity.  To convert the Euclidian distance to a \"distanced based similarity score\", divide 1 by 1+distance, so 1/(1+18.2493) = 0.0519.  The score for two vectors with zero distance would be a 1 (1/(1+0)=1).  A score of 0.0519 indicates that the vectors are dissimilar, which is consistent with the results obtained using the dot product."
   ]
  },
  {
   "cell_type": "markdown",
   "metadata": {},
   "source": [
    "## Visualizations"
   ]
  },
  {
   "cell_type": "markdown",
   "metadata": {},
   "source": [
    "### Sepal length and sepal width"
   ]
  },
  {
   "cell_type": "code",
   "execution_count": null,
   "metadata": {},
   "outputs": [],
   "source": [
    "# Compare sepal width to sepal length\n",
    "plt.figure(figsize=(20,12))\n",
    "sns.scatterplot(x='sepal length (cm)', y='sepal width (cm)', data=iris_df);"
   ]
  },
  {
   "cell_type": "code",
   "execution_count": null,
   "metadata": {},
   "outputs": [],
   "source": [
    "# Compare sepal width to sepal length, color coded by petal length\n",
    "plt.figure(figsize=(20,12))\n",
    "sns.scatterplot(x='sepal length (cm)', y='sepal width (cm)', data=iris_df, hue='petal length (cm)', palette='Blues_r');"
   ]
  },
  {
   "cell_type": "code",
   "execution_count": null,
   "metadata": {},
   "outputs": [],
   "source": [
    "# Compare sepal width to sepal length, color coded by petal width\n",
    "plt.figure(figsize=(20,12))\n",
    "sns.scatterplot(x='sepal length (cm)', y='sepal width (cm)', data=iris_df, hue='petal width (cm)', palette='Blues_r');"
   ]
  },
  {
   "cell_type": "markdown",
   "metadata": {},
   "source": [
    "### Petal length and petal width"
   ]
  },
  {
   "cell_type": "code",
   "execution_count": null,
   "metadata": {},
   "outputs": [],
   "source": [
    "# Scatter plot of petal length vs petal width\n",
    "plt.figure(figsize=(20,12))\n",
    "sns.scatterplot(x='petal length (cm)', y='petal width (cm)', data=iris_df);"
   ]
  },
  {
   "cell_type": "code",
   "execution_count": null,
   "metadata": {},
   "outputs": [],
   "source": [
    "# Compare sepal width to sepal length, color coded by petal length\n",
    "plt.figure(figsize=(20,12))\n",
    "sns.scatterplot(x='petal length (cm)', y='petal width (cm)', data=iris_df, hue='sepal length (cm)', palette='Blues_r');"
   ]
  },
  {
   "cell_type": "code",
   "execution_count": null,
   "metadata": {},
   "outputs": [],
   "source": [
    "# Compare sepal width to sepal length, color coded by petal length\n",
    "plt.figure(figsize=(20,12))\n",
    "sns.scatterplot(x='petal length (cm)', y='petal width (cm)', data=iris_df, hue='sepal width (cm)', palette='Blues_r');"
   ]
  },
  {
   "cell_type": "markdown",
   "metadata": {},
   "source": [
    "### Pairplots of predictive attributes by type of species"
   ]
  },
  {
   "cell_type": "code",
   "execution_count": null,
   "metadata": {},
   "outputs": [],
   "source": [
    "sns.pairplot(iris_df, hue='target', palette=\"prism_r\");"
   ]
  },
  {
   "cell_type": "markdown",
   "metadata": {},
   "source": [
    "### Boxplots of each predictive attribute by type of species"
   ]
  },
  {
   "cell_type": "code",
   "execution_count": null,
   "metadata": {},
   "outputs": [],
   "source": [
    "sns.set_style(\"whitegrid\")\n",
    "  \n",
    "sns.boxplot(x = 'target', y = 'sepal length (cm)', data = iris_df);"
   ]
  },
  {
   "cell_type": "code",
   "execution_count": null,
   "metadata": {},
   "outputs": [],
   "source": [
    "sns.set_style(\"whitegrid\")\n",
    "sns.boxplot(x = 'target', y = 'sepal width (cm)', data = iris_df);"
   ]
  },
  {
   "cell_type": "code",
   "execution_count": null,
   "metadata": {},
   "outputs": [],
   "source": [
    "sns.set_style(\"whitegrid\")\n",
    "sns.boxplot(x = 'target', y = 'petal length (cm)', data = iris_df);"
   ]
  },
  {
   "cell_type": "code",
   "execution_count": null,
   "metadata": {},
   "outputs": [],
   "source": [
    "sns.set_style(\"whitegrid\")\n",
    "sns.boxplot(x = 'target', y = 'petal width (cm)', data = iris_df);"
   ]
  },
  {
   "cell_type": "markdown",
   "metadata": {},
   "source": [
    "### Observations:\n",
    "* There doesn't appear to be a clear relationship between sepal width and sepal length in general\n",
    "    * Both the observations with petals that are lower in length (1-3 cm) and those with petals that are lower in width (0.4-0.8 cm) primarily correspond to those with a sepal length less than 6 cm and a sepal width greater than 3 cm\n",
    "* There appears to be a fairly strong relationship between petal length and petal width, as well as two distinct groupings\n",
    "    * Adding sepal length or sepal width didn't indicate any additional patterns\n",
    "* The pairplots show that Setosa is highly distinguishable from the other two species in all comparisons\n",
    "    * Additionally, petal length and petal width both help to distinguish Versicolor from Virginica\n",
    "* The boxplots show results consistent with the pairplots, but from a different view:\n",
    "    * For sepal length, there is overlap between the three species, although Setosa is more tightly grouped and there appears to be an order from lowest values to highest values of: Setosa, Versicolor, Virginica, though again there is overlap\n",
    "    * For sepal width, there is again overlap among the three this time with Setosa on the higher end and with Versicolor and Virginica's ranges with more overlap with each other.\n",
    "    * For both petal length and petal width, Setosa is completely separate from the other two at the low end of the values while the other two have some overlap but their interquartile ranges are separated from each other.  In each case (petal length and width), the order from primarily low range of values to high range of values is: Setosa, Versicolor, Virginica"
   ]
  },
  {
   "cell_type": "markdown",
   "metadata": {},
   "source": [
    "## Conclusions: (these are rough, just getting ideas down)\n",
    "* Sepal length and sepal width taken together are good indicators of the species Setosa\n",
    "* Petal length and petal width taken together give a pretty good breakout of all three species"
   ]
  }
 ],
 "metadata": {
  "kernelspec": {
   "display_name": "Python 3",
   "language": "python",
   "name": "python3"
  },
  "language_info": {
   "codemirror_mode": {
    "name": "ipython",
    "version": 3
   },
   "file_extension": ".py",
   "mimetype": "text/x-python",
   "name": "python",
   "nbconvert_exporter": "python",
   "pygments_lexer": "ipython3",
   "version": "3.8.5"
  }
 },
 "nbformat": 4,
 "nbformat_minor": 4
}
