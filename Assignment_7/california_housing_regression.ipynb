{
 "cells": [
  {
   "cell_type": "markdown",
   "metadata": {},
   "source": [
    "# California Housing Data Regression\n",
    "\n",
    "#### Utilize numerous regression techniques, with Median House Value as the target variable and evaluate the performance of each as well as results."
   ]
  },
  {
   "cell_type": "markdown",
   "metadata": {},
   "source": [
    "## Import Libraries"
   ]
  },
  {
   "cell_type": "code",
   "execution_count": null,
   "metadata": {},
   "outputs": [],
   "source": [
    "from sklearn.datasets import fetch_california_housing # Brings in Dataset\n",
    "\n",
    "import numpy as np\n",
    "import pandas as pd\n",
    "import seaborn as sns\n",
    "import matplotlib.pyplot as plt\n",
    "import matplotlib\n",
    "%matplotlib inline\n",
    "import plotly.express as px\n",
    "import geopandas\n",
    "from pandas_profiling import ProfileReport\n",
    "from urllib.request import urlopen\n",
    "import json\n",
    "import plotly.graph_objects as go\n",
    "import statsmodels.api as sm\n",
    "from sklearn.preprocessing import StandardScaler\n",
    "from sklearn.linear_model import LinearRegression, RidgeCV, Lasso"
   ]
  },
  {
   "cell_type": "markdown",
   "metadata": {},
   "source": [
    "## Load Dataset, Explore and Display Features"
   ]
  },
  {
   "cell_type": "code",
   "execution_count": null,
   "metadata": {},
   "outputs": [],
   "source": [
    "housing = fetch_california_housing()\n",
    "housing_df = pd.DataFrame(data= np.c_[housing['data'], housing['target']],\n",
    "                     columns= housing['feature_names'] + ['MedHouseVal'])"
   ]
  },
  {
   "cell_type": "code",
   "execution_count": null,
   "metadata": {},
   "outputs": [],
   "source": [
    "housing_df.sample(3)"
   ]
  },
  {
   "cell_type": "code",
   "execution_count": null,
   "metadata": {},
   "outputs": [],
   "source": [
    "housing_df.describe()"
   ]
  },
  {
   "cell_type": "code",
   "execution_count": null,
   "metadata": {},
   "outputs": [],
   "source": [
    "profile = ProfileReport(housing_df)\n",
    "profile"
   ]
  },
  {
   "cell_type": "markdown",
   "metadata": {},
   "source": [
    "### Geographic plot of  Median House Value"
   ]
  },
  {
   "cell_type": "code",
   "execution_count": null,
   "metadata": {},
   "outputs": [],
   "source": [
    "## Creating a spatial map of the housing data with the Median House Value \n",
    "# binned and represented by size of its point and color\n",
    "\n",
    "fig_dims = (6, 6.5) # Using Dims to try to simulate Cali Shape\n",
    "fig, ax = plt.subplots(figsize=fig_dims)  \n",
    "sns.scatterplot(data=housing_df, x=\"Longitude\", y=\"Latitude\",\n",
    "                size=\"MedHouseVal\", hue=\"MedHouseVal\",\n",
    "                palette=\"viridis\", alpha=0.5)\n",
    "\n",
    "plt.legend(title=\"MedHouseVal\", bbox_to_anchor=(1.05, 0.95),\n",
    "           loc=\"upper left\")\n",
    "_ = plt.title(\"Median house value by spatial location\")"
   ]
  },
  {
   "cell_type": "markdown",
   "metadata": {},
   "source": [
    "### Pairplot of predictive attributes"
   ]
  },
  {
   "cell_type": "code",
   "execution_count": null,
   "metadata": {},
   "outputs": [],
   "source": [
    "## Creating pairplot of predictive attributes and Median House Value (target)\n",
    "# This is ignoring Latitude and Longitude\n",
    "\n",
    "housing_df_noGeo = housing_df.drop(columns=['Latitude','Longitude'])\n",
    "housing_df_noGeo[\"target\"] = pd.qcut(housing_df_noGeo[\"MedHouseVal\"],\n",
    "                                     6, retbins=False)\n",
    "housing_df_noGeo[\"target\"] = housing_df_noGeo[\"target\"].apply(lambda x: x.mid)\n",
    "\n",
    "_ = sns.pairplot(data=housing_df_noGeo, hue=\"target\", palette=\"viridis\")\n",
    "\n",
    "\n",
    "\n",
    "\n",
    "### Note: can someone find a better way to display this? feels a bit hard to read"
   ]
  },
  {
   "cell_type": "markdown",
   "metadata": {},
   "source": [
    "### Variables by County Location"
   ]
  },
  {
   "cell_type": "code",
   "execution_count": null,
   "metadata": {},
   "outputs": [],
   "source": [
    "# Create a geopandas dataframe with the latitude/longitude values\n",
    "housing_gdf = geopandas.GeoDataFrame(\n",
    "    housing_df, geometry=geopandas.points_from_xy(housing_df.Longitude, housing_df.Latitude))\n",
    "\n",
    "print(housing_gdf.head())\n",
    "\n",
    "# County information from the US 2018 census\n",
    "counties = geopandas.read_file('CA_Counties_TIGER2016.shp')\n",
    "print(counties.head())\n",
    "\n",
    "\n",
    "# Below are all some iterations of what I've tried; I'm getting confused trying to merge the \n",
    "# county lines and the latitude/longitude values from the dataset; I'm having a hard time\n",
    "# figuring out how to make them comparable \n",
    "\n",
    "ax = counties.boundary.plot(color='black', figsize=(18, 12))\n",
    "\n",
    "ax.plot()\n",
    "\n",
    "fig = px.scatter_geo(housing_gdf)\n",
    "\n",
    "fig.show()\n",
    "\n",
    "housing_gdf.plot(ax=ax, color='red')\n",
    "\n",
    "plt.show()\n",
    "\n",
    "with urlopen('https://raw.githubusercontent.com/plotly/datasets/master/geojson-counties-fips.json') as response:\n",
    "    all_counties = json.load(response)\n",
    "\n",
    "fig = px.choropleth(housing_gdf, geojson=counties, locations='geometry', color='target',\n",
    "                           range_color=(0, 12),\n",
    "                           scope=\"usa\"\n",
    "                          )\n",
    "fig.update_layout(margin={\"r\":0,\"t\":0,\"l\":0,\"b\":0})\n",
    "fig.show()    "
   ]
  },
  {
   "cell_type": "markdown",
   "metadata": {},
   "source": [
    "### Ordinary Least Squares Regression"
   ]
  },
  {
   "cell_type": "code",
   "execution_count": null,
   "metadata": {},
   "outputs": [],
   "source": [
    "def OLS_Regression(df):\n",
    "    Y = df['MedHouseVal']\n",
    "    for col in df.iloc[:,0:5]:\n",
    "        print(col)\n",
    "        X = df[col]\n",
    "        X = sm.add_constant(X)\n",
    "        model = sm.OLS(Y,X)\n",
    "        results = model.fit()\n",
    "        print(\"Results\" + str(results.params))\n",
    "        print(\"T-values\" + str(results.tvalues))\n",
    "        print(\"T-Test\" + str(results.t_test([1, 0])))\n",
    "    \n",
    "    \n",
    "print(OLS_Regression(housing_df))"
   ]
  },
  {
   "cell_type": "markdown",
   "metadata": {},
   "source": [
    "### Standardize the data set "
   ]
  },
  {
   "cell_type": "code",
   "execution_count": null,
   "metadata": {},
   "outputs": [],
   "source": [
    "x = housing_df\n",
    "scaled_array = StandardScaler().fit_transform(x) #This is an array of the standardized values of the original columns\n",
    "housing_standardized = pd.DataFrame(data= np.c_[scaled_array],\\\n",
    "                                    columns = ('MedInc', 'HouseAge', 'AveRooms', 'AveBedrms','Population',\\\n",
    "                                               'AveOccup','Latitude','Longitude', 'MedHouseVal'))\n",
    "\n",
    "# View standardized data frame\n",
    "housing_standardized.head()"
   ]
  },
  {
   "cell_type": "markdown",
   "metadata": {},
   "source": [
    "### Multiple Linear Regression Model"
   ]
  },
  {
   "cell_type": "code",
   "execution_count": null,
   "metadata": {},
   "outputs": [],
   "source": [
    "# Separate features and target into x and y\n",
    "x = housing_standardized[['MedInc','HouseAge','AveRooms','AveBedrms','Population','AveOccup','Latitude','Longitude']]\n",
    "y = housing_standardized['MedHouseVal']\n",
    "\n",
    "# Define the multiple linear regression model\n",
    "linear_regress = LinearRegression()\n",
    "\n",
    "# Fit the multiple linear regression model\n",
    "linear_regress.fit(x,y)\n",
    "\n",
    "# Predict y hat with the data\n",
    "y_pred = linear_regress.predict(x)\n",
    "y_pred"
   ]
  },
  {
   "cell_type": "markdown",
   "metadata": {},
   "source": [
    "### RidgeCV Model"
   ]
  },
  {
   "cell_type": "code",
   "execution_count": null,
   "metadata": {},
   "outputs": [],
   "source": [
    "# Separate features and target into x and y\n",
    "x = housing_standardized[['MedInc','HouseAge','AveRooms','AveBedrms','Population','AveOccup','Latitude','Longitude']]\n",
    "y = housing_standardized['MedHouseVal']\n",
    "\n",
    "# Define the multiple linear regression model\n",
    "#ridge_cv = RidgeCV(alphas=[1e-7, 1e-6, 1e-5, 1e-4, 1e-3, 1e-2, 1e-1, 1])\n",
    "ridge_cv = RidgeCV()\n",
    "# Fit the multiple linear regression model\n",
    "ridge_cv.fit(x,y)\n",
    "\n",
    "# Predict y hat with the data\n",
    "y_pred = ridge_cv.predict(x)\n",
    "y_pred"
   ]
  },
  {
   "cell_type": "markdown",
   "metadata": {},
   "source": [
    "### Lasso Model"
   ]
  },
  {
   "cell_type": "code",
   "execution_count": null,
   "metadata": {},
   "outputs": [],
   "source": [
    "# Separate features and target into x and y\n",
    "x = housing_standardized[['MedInc','HouseAge','AveRooms','AveBedrms','Population','AveOccup','Latitude','Longitude']]\n",
    "y = housing_standardized['MedHouseVal']\n",
    "\n",
    "# Define the multiple linear regression model\n",
    "lasso = Lasso(alpha=0.1)\n",
    "\n",
    "# Fit the multiple linear regression model\n",
    "lasso.fit(x,y)\n",
    "\n",
    "# Predict y hat with the data\n",
    "y_pred = lasso.predict(x)\n",
    "y_pred"
   ]
  }
 ],
 "metadata": {
  "kernelspec": {
   "display_name": "Python 3",
   "language": "python",
   "name": "python3"
  },
  "language_info": {
   "codemirror_mode": {
    "name": "ipython",
    "version": 3
   },
   "file_extension": ".py",
   "mimetype": "text/x-python",
   "name": "python",
   "nbconvert_exporter": "python",
   "pygments_lexer": "ipython3",
   "version": "3.8.5"
  }
 },
 "nbformat": 4,
 "nbformat_minor": 4
}
