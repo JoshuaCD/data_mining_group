{
 "cells": [
  {
   "cell_type": "markdown",
   "metadata": {},
   "source": [
    "# Mushroom Stew\n",
    "\n",
    "## Develop a mushroom stew, that is visually appealing, pleasingly smelling, and preferably non-toxic.\n",
    "\n",
    "* Explore the fields, which ones could affect the taste or smell, which can be ignored? \n",
    "* Which fields may affect if the stew is visually appealing? \n",
    "* Use graphics to support your choices"
   ]
  },
  {
   "cell_type": "markdown",
   "metadata": {},
   "source": [
    "## Import Libraries"
   ]
  },
  {
   "cell_type": "code",
   "execution_count": null,
   "metadata": {},
   "outputs": [],
   "source": [
    "import numpy as np\n",
    "import pandas as pd\n",
    "import seaborn as sns\n",
    "import matplotlib.pyplot as plt\n",
    "from pandas_profiling import ProfileReport\n",
    "from statsmodels.tools.eval_measures import rmse\n",
    "from sklearn.preprocessing import StandardScaler, LabelEncoder, OneHotEncoder\n",
    "from sklearn.linear_model import LogisticRegression\n",
    "from sklearn.neighbors import KNeighborsClassifier\n",
    "from sklearn.svm import SVC\n",
    "from sklearn.neural_network import MLPClassifier\n",
    "from sklearn.naive_bayes import GaussianNB\n",
    "from sklearn.tree import DecisionTreeClassifier, plot_tree, export_text\n",
    "from sklearn.ensemble import RandomForestClassifier\n",
    "from sklearn.discriminant_analysis import LinearDiscriminantAnalysis\n",
    "from sklearn.metrics import classification_report, confusion_matrix, accuracy_score\n",
    "from sklearn.pipeline import Pipeline\n",
    "from sklearn.inspection import permutation_importance"
   ]
  },
  {
   "cell_type": "code",
   "execution_count": null,
   "metadata": {},
   "outputs": [],
   "source": [
    "# Set Plotting Scale Params\n",
    "plt.rcParams['figure.figsize'] = (16, 12)\n",
    "sns.set_style('darkgrid')\n",
    "%matplotlib inline"
   ]
  },
  {
   "cell_type": "markdown",
   "metadata": {},
   "source": [
    "## Defining Classes/Functions"
   ]
  },
  {
   "cell_type": "code",
   "execution_count": null,
   "metadata": {},
   "outputs": [],
   "source": [
    "### Defining Classes/Functions\n",
    "\n",
    "def classification(method, x_dat, y_dat, **params): \n",
    "    \n",
    "    #fit model\n",
    "    mod = Pipeline([('encode', OneHotEncoder(sparse=False)), ('classify', method(**params))])\n",
    "    mod.fit(x_dat, y_dat)\n",
    "    y_pred = mod.predict(x_dat)\n",
    "    \n",
    "    #print results\n",
    "    print(\"Results for {}:\".format(method.__name__))\n",
    "    print(classification_report(y_dat, y_pred))\n",
    "    print(\"Test Accuracy: {}%\".format(round(mod.score(x_dat, y_dat)*100,2)))\n",
    "    \n",
    "    #print confusion matrix\n",
    "    y_pred_rf = y_pred\n",
    "    y_true_rf = y_dat\n",
    "    cm = confusion_matrix(y_true_rf, y_pred_rf)\n",
    "    f, ax = plt.subplots(figsize =(5,5))\n",
    "    sns.heatmap(cm,annot = True,linewidths=0.5,linecolor=\"red\",fmt = \".0f\",ax=ax)\n",
    "    plt.xlabel(\"y_pred_rf\")\n",
    "    plt.ylabel(\"y_true_rf\")\n",
    "    plt.title('Confusion Matrix')\n",
    "    plt.show()\n",
    "    \n",
    "    #Calculate permutation feature importance\n",
    "    # permutation feature importance - the decrease in a model score when a single feature value is randomly shuffled\n",
    "    # thus the drop in the model score is indicative of how much the model depends on the feature\n",
    "    # (n_jobs=-1 means using all processors)\n",
    "    imp = permutation_importance(mod, x_dat, y_dat, n_jobs=-1)\n",
    "    \n",
    "    #Generate feature importance plot\n",
    "    plt.figure(figsize=(12,8))\n",
    "    importance_data = pd.DataFrame({'feature':x_dat.columns, 'importance':imp.importances_mean})\n",
    "    sns.barplot(x='importance', y='feature', data=importance_data)\n",
    "    plt.title('Permutation Feature Importance')\n",
    "    plt.xlabel('Mean Decrease in F1 Score')\n",
    "    plt.ylabel('')\n",
    "    plt.show()"
   ]
  },
  {
   "cell_type": "markdown",
   "metadata": {},
   "source": [
    "## Load Dataset, Explore and Display Features"
   ]
  },
  {
   "cell_type": "code",
   "execution_count": null,
   "metadata": {},
   "outputs": [],
   "source": [
    "col_names=['class','cap-shape', 'cap-surface', 'cap-color', 'bruises?', 'odor','gill-attachment',\\\n",
    "           'gill-spacing','gill-size','gill-color','stalk-shape','stalk-root','stalk-surface-above-ring',\\\n",
    "           'stalk-surface-below-ring','stalk-color-above-ring','stalk-color-below-ring','veil-type',\\\n",
    "           'veil-color','ring-number','ring-type','spore-print-color','population','habitat'] \n",
    "\n",
    "mushroom_df = pd.read_csv('expanded.csv', names=col_names, header=None)"
   ]
  },
  {
   "cell_type": "code",
   "execution_count": null,
   "metadata": {},
   "outputs": [],
   "source": [
    "pd.set_option(\"display.max_columns\", None)\n",
    "mushroom_df.head(5)"
   ]
  },
  {
   "cell_type": "code",
   "execution_count": null,
   "metadata": {},
   "outputs": [],
   "source": [
    "mushroom_df.dtypes"
   ]
  },
  {
   "cell_type": "code",
   "execution_count": null,
   "metadata": {},
   "outputs": [],
   "source": [
    "mushroom_df.describe()"
   ]
  },
  {
   "cell_type": "code",
   "execution_count": null,
   "metadata": {},
   "outputs": [],
   "source": [
    "profile = ProfileReport(mushroom_df)\n",
    "profile"
   ]
  },
  {
   "cell_type": "markdown",
   "metadata": {},
   "source": [
    "## Feature Engineering\n"
   ]
  },
  {
   "cell_type": "markdown",
   "metadata": {},
   "source": [
    "### The field `veil-type` doesn't contribute any information (all are the same value) and can be dropped from the dataset"
   ]
  },
  {
   "cell_type": "code",
   "execution_count": null,
   "metadata": {},
   "outputs": [],
   "source": [
    "mushroom_df_adj = mushroom_df.drop('veil-type', axis=1)\n",
    "mushroom_df_adj.shape"
   ]
  },
  {
   "cell_type": "markdown",
   "metadata": {},
   "source": [
    "### Label encode the \"class\" column"
   ]
  },
  {
   "cell_type": "code",
   "execution_count": null,
   "metadata": {},
   "outputs": [],
   "source": [
    "# label_encoder object\n",
    "label_encoder =LabelEncoder()\n",
    "# Encode labels in column. \n",
    "mushroom_df_adj['class']= label_encoder.fit_transform(mushroom_df_adj['class']) # 0 is Edible, 1 is Poisonous"
   ]
  },
  {
   "cell_type": "markdown",
   "metadata": {},
   "source": [
    "### Split into feature and target data"
   ]
  },
  {
   "cell_type": "code",
   "execution_count": null,
   "metadata": {},
   "outputs": [],
   "source": [
    "# Note these x and y values will be used in the first set of classification models\n",
    "# The second set of classification models uses this y value but a modified x value\n",
    "x_mushroom = mushroom_df_adj.drop([\"class\"], axis=1)\n",
    "y_mushroom = mushroom_df_adj[\"class\"]"
   ]
  },
  {
   "cell_type": "markdown",
   "metadata": {},
   "source": [
    "## Feature Exploration"
   ]
  },
  {
   "cell_type": "markdown",
   "metadata": {},
   "source": [
    "### Violin Plot"
   ]
  },
  {
   "cell_type": "code",
   "execution_count": null,
   "metadata": {},
   "outputs": [],
   "source": [
    "# Creating Violin Plot for encoded features\n",
    "\n",
    "labelencoder=LabelEncoder() # Must encode for this plot type\n",
    "\n",
    "mushroom_df_encoded = mushroom_df.copy()\n",
    "for column in mushroom_df_encoded.columns:\n",
    "    mushroom_df_encoded[column] = labelencoder.fit_transform(mushroom_df_encoded[column])\n",
    "\n",
    "df_div = pd.melt(mushroom_df_encoded.drop(\"veil-type\",axis=1),\n",
    "                 'class', var_name='Characteristics')\n",
    "fig, ax = plt.subplots(figsize=(22,10))\n",
    "\n",
    "p = sns.violinplot(ax = ax, x='Characteristics', y='value',\n",
    "                   hue='class', split = True, data=df_div,\n",
    "                   inner = 'quartile', palette = 'Set1')\n",
    "\n",
    "df_no_class = mushroom_df_encoded.drop(['class','veil-type'],axis = 1)\n",
    "p.set_xticklabels(rotation = 90, labels = list(df_no_class.columns))\n",
    "ax.set_title('Violin Plot of Mushroom Edibility by Feature')\n",
    "sns.set(font_scale=1.8)\n",
    "plt.show()"
   ]
  },
  {
   "cell_type": "markdown",
   "metadata": {},
   "source": [
    "As we can see from the above violin plot, odor, gill color, spore print color, and habitat seem to have strong indications of edibility. Let's see if our intuition is correct by looking at the edibility numbers for each variable."
   ]
  },
  {
   "cell_type": "markdown",
   "metadata": {},
   "source": [
    "### Edibility Stacked Barcharts"
   ]
  },
  {
   "cell_type": "code",
   "execution_count": null,
   "metadata": {
    "scrolled": false
   },
   "outputs": [],
   "source": [
    "# Creating stacked barcharts for each feature in the dataset\n",
    "sns.set_style(\"whitegrid\")\n",
    "\n",
    "fig, axes = plt.subplots(11,2, figsize=(24,88))\n",
    "axes = axes.flatten()\n",
    "\n",
    "for column, ax in zip(mushroom_df.drop([\"class\"], axis=1).columns, axes):\n",
    "    uniq_vals = mushroom_df[column].unique()\n",
    "    count_edible=[]\n",
    "    count_poison=[]\n",
    "\n",
    "    for j in uniq_vals:\n",
    "        count_edible.append(len(mushroom_df[(mushroom_df[column]==j)\n",
    "                                            & (mushroom_df['class']=='EDIBLE')]))\n",
    "        # Edible Bar\n",
    "        \n",
    "        count_poison.append(len(mushroom_df[(mushroom_df[column]==j)\n",
    "                                            & (mushroom_df['class']=='POISONOUS')]))\n",
    "        # Poison Bar\n",
    "    ax.bar(uniq_vals, count_edible, label='EDIBLE',color='b')\n",
    "    ax.bar(uniq_vals, count_poison, label='POISONOUS', bottom=count_edible,color='r')\n",
    "\n",
    "    ax.set_ylabel('Count')\n",
    "    ax.set_title('Mushroom Edibility by Feature: '+column.upper())\n",
    "    ax.legend()\n",
    "\n",
    "fig.tight_layout()\n",
    "plt.show()"
   ]
  },
  {
   "cell_type": "markdown",
   "metadata": {},
   "source": [
    "From the above histograms, we can conclude that `bruises?`might also be a good indicator of edibility."
   ]
  },
  {
   "cell_type": "markdown",
   "metadata": {},
   "source": [
    "### Pleasant Smell"
   ]
  },
  {
   "cell_type": "code",
   "execution_count": null,
   "metadata": {},
   "outputs": [],
   "source": [
    "good_odor = ['ALMOND','ANISE','SPICY'] # Up to interpretation I suppose\n",
    "sns.set()\n",
    "\n",
    "uniq_vals = mushroom_df['odor'].unique()\n",
    "count_edible=[]\n",
    "count_poison=[]\n",
    "for j in uniq_vals:\n",
    "    count_edible.append(len(mushroom_df[(mushroom_df['odor']==j)\n",
    "                                            & (mushroom_df['class']=='EDIBLE')]))\n",
    "    count_poison.append(len(mushroom_df[(mushroom_df['odor']==j)\n",
    "                                            & (mushroom_df['class']=='POISONOUS')]))\n",
    "fig, ax = plt.subplots(figsize=(9,6))\n",
    "\n",
    "ax.bar(uniq_vals, count_edible, label='EDIBLE',color='b')\n",
    "ax.bar(uniq_vals, count_poison, label='POISONOUS', bottom=count_edible,color='r')\n",
    "\n",
    "ax.set_ylabel('Count')\n",
    "ax.set_title('Mushroom Edibility by Feature: ODOR')\n",
    "ax.legend()\n",
    "plt.show()"
   ]
  },
  {
   "cell_type": "markdown",
   "metadata": {},
   "source": [
    "We can see from the above plot that nearly all mushrooms with a smell that is not Almond, Anise, or None are Poisonous. To make a pleasant smelling soup is to then indeed make an edible one, which will be quite handy for foragers."
   ]
  },
  {
   "cell_type": "markdown",
   "metadata": {},
   "source": [
    "### Correlation Heatmaps"
   ]
  },
  {
   "cell_type": "markdown",
   "metadata": {},
   "source": [
    "Let's look at the data another way, and observe what kind of effect different combinations of the variables have."
   ]
  },
  {
   "cell_type": "code",
   "execution_count": null,
   "metadata": {},
   "outputs": [],
   "source": [
    "# Create crosstables of different groupings of the variables\n",
    "cap_xtab = pd.crosstab(mushroom_df['class'],\\\n",
    "                   columns=[mushroom_df['cap-shape'], mushroom_df['cap-surface'], \\\n",
    "                            mushroom_df['cap-color'], mushroom_df['bruises?']]) \n",
    "\n",
    "gill_xtab = pd.crosstab(mushroom_df['class'],\\\n",
    "                    columns=[mushroom_df['odor'],mushroom_df['gill-attachment'],\\\n",
    "                            mushroom_df['gill-spacing'], mushroom_df['gill-size'], \\\n",
    "                            mushroom_df['gill-color']])\n",
    "\n",
    "stalk_xtab = pd.crosstab(mushroom_df['class'],\\\n",
    "                     columns=[mushroom_df['stalk-shape'],mushroom_df['stalk-root'],\\\n",
    "                            mushroom_df['stalk-surface-above-ring'],\\\n",
    "                            mushroom_df['stalk-surface-below-ring'],\\\n",
    "                            mushroom_df['stalk-color-above-ring'],\\\n",
    "                            mushroom_df['stalk-color-below-ring']])\n",
    "\n",
    "other_xtab = pd.crosstab(mushroom_df['class'],\\\n",
    "                    columns=[mushroom_df['veil-type'],mushroom_df['veil-color'],\\\n",
    "                            mushroom_df['ring-number'],mushroom_df['spore-print-color'],\n",
    "                            mushroom_df['population'], mushroom_df['habitat']])\n"
   ]
  },
  {
   "cell_type": "code",
   "execution_count": null,
   "metadata": {},
   "outputs": [],
   "source": [
    "# An example of what one of the cross tables looks like \n",
    "gill_xtab"
   ]
  },
  {
   "cell_type": "code",
   "execution_count": null,
   "metadata": {},
   "outputs": [],
   "source": [
    "fig, ax = plt.subplots(figsize=(12,4.5))\n",
    "heatmap=sns.heatmap(cap_xtab)\n",
    "heatmap.set_yticklabels(heatmap.get_yticklabels(), rotation=0)\n",
    "plt.show()"
   ]
  },
  {
   "cell_type": "code",
   "execution_count": null,
   "metadata": {},
   "outputs": [],
   "source": [
    "fig, ax = plt.subplots(figsize=(12,4.5))\n",
    "heatmap=sns.heatmap(gill_xtab)\n",
    "heatmap.set_yticklabels(heatmap.get_yticklabels(), rotation=0)\n",
    "plt.show()"
   ]
  },
  {
   "cell_type": "code",
   "execution_count": null,
   "metadata": {},
   "outputs": [],
   "source": [
    "fig, ax = plt.subplots(figsize=(12,4.5))\n",
    "heatmap=sns.heatmap(stalk_xtab)\n",
    "heatmap.set_yticklabels(heatmap.get_yticklabels(), rotation=0)\n",
    "plt.show()"
   ]
  },
  {
   "cell_type": "code",
   "execution_count": null,
   "metadata": {},
   "outputs": [],
   "source": [
    "fig, ax = plt.subplots(figsize=(12,4.5))\n",
    "heatmap=sns.heatmap(other_xtab)\n",
    "heatmap.set_yticklabels(heatmap.get_yticklabels(), rotation=0)\n",
    "plt.show()"
   ]
  },
  {
   "cell_type": "markdown",
   "metadata": {},
   "source": [
    "## Sample Decision Tree"
   ]
  },
  {
   "cell_type": "code",
   "execution_count": null,
   "metadata": {},
   "outputs": [],
   "source": [
    "dummies = pd.get_dummies(x_mushroom)\n",
    "tree = DecisionTreeClassifier()\n",
    "tree.fit(dummies, y_mushroom)\n",
    "\n",
    "fig = plt.figure(figsize=(120,50))\n",
    "out = plot_tree(tree,filled=True, feature_names = dummies.columns, rounded=True, proportion=True,\\\n",
    "                class_names = ['Edible', 'Poisonous'])\n",
    "for o in out:\n",
    "    arrow = o.arrow_patch\n",
    "    if arrow is not None:\n",
    "        arrow.set_edgecolor('black')\n",
    "        arrow.set_linewidth(2)"
   ]
  },
  {
   "cell_type": "code",
   "execution_count": null,
   "metadata": {},
   "outputs": [],
   "source": [
    "featurelist=[]\n",
    "for i in dummies.columns:\n",
    "    featurelist.append(i)"
   ]
  },
  {
   "cell_type": "code",
   "execution_count": null,
   "metadata": {},
   "outputs": [],
   "source": [
    "print(export_text(tree, feature_names = featurelist))"
   ]
  },
  {
   "cell_type": "markdown",
   "metadata": {},
   "source": [
    "## Classification Models\n",
    "#### Note: where applicable, random_state=42 in our models sets a seed so that results will be reproducible"
   ]
  },
  {
   "cell_type": "markdown",
   "metadata": {},
   "source": [
    "### Decision Tree Classifier"
   ]
  },
  {
   "cell_type": "code",
   "execution_count": null,
   "metadata": {
    "scrolled": false
   },
   "outputs": [],
   "source": [
    "classification(DecisionTreeClassifier, x_mushroom, y_mushroom, random_state=42)"
   ]
  },
  {
   "cell_type": "markdown",
   "metadata": {},
   "source": [
    "### C-Support Vector Classifier"
   ]
  },
  {
   "cell_type": "code",
   "execution_count": null,
   "metadata": {
    "scrolled": false
   },
   "outputs": [],
   "source": [
    "classification(SVC, x_mushroom, y_mushroom, random_state=42)"
   ]
  },
  {
   "cell_type": "markdown",
   "metadata": {},
   "source": [
    "### K Neighbors Classifier"
   ]
  },
  {
   "cell_type": "code",
   "execution_count": null,
   "metadata": {},
   "outputs": [],
   "source": [
    "classification(KNeighborsClassifier, x_mushroom, y_mushroom, n_neighbors=5)"
   ]
  },
  {
   "cell_type": "markdown",
   "metadata": {},
   "source": [
    "### Logistic Regression Classifier"
   ]
  },
  {
   "cell_type": "code",
   "execution_count": null,
   "metadata": {
    "scrolled": false
   },
   "outputs": [],
   "source": [
    "classification(LogisticRegression, x_mushroom, y_mushroom, random_state=42) "
   ]
  },
  {
   "cell_type": "markdown",
   "metadata": {},
   "source": [
    "### Gaussian Naive Bayes Classifier"
   ]
  },
  {
   "cell_type": "code",
   "execution_count": null,
   "metadata": {
    "scrolled": false
   },
   "outputs": [],
   "source": [
    "classification(GaussianNB, x_mushroom, y_mushroom)"
   ]
  },
  {
   "cell_type": "markdown",
   "metadata": {},
   "source": [
    "### Random Forest Classifier"
   ]
  },
  {
   "cell_type": "code",
   "execution_count": null,
   "metadata": {},
   "outputs": [],
   "source": [
    "# Note: random_state=42 sets a seed so the results are reproducible\n",
    "classification(RandomForestClassifier, x_mushroom, y_mushroom, n_estimators=100, random_state=42)  "
   ]
  },
  {
   "cell_type": "markdown",
   "metadata": {},
   "source": [
    "### Linear Discriminant Classifier"
   ]
  },
  {
   "cell_type": "code",
   "execution_count": null,
   "metadata": {},
   "outputs": [],
   "source": [
    "classification(LinearDiscriminantAnalysis, x_mushroom, y_mushroom)"
   ]
  },
  {
   "cell_type": "markdown",
   "metadata": {},
   "source": [
    "### Neural Network Multi-layer Perceptron Classifier"
   ]
  },
  {
   "cell_type": "code",
   "execution_count": null,
   "metadata": {},
   "outputs": [],
   "source": [
    "classification(MLPClassifier, x_mushroom, y_mushroom, random_state=42)"
   ]
  },
  {
   "cell_type": "markdown",
   "metadata": {},
   "source": [
    "## COVID version: what if we lose our sense of smell?"
   ]
  },
  {
   "cell_type": "markdown",
   "metadata": {},
   "source": [
    "Odor is obviously the most powerful predictive attribute. What happens to our models if we drop that variable and we can only identify mushrooms visually?"
   ]
  },
  {
   "cell_type": "code",
   "execution_count": null,
   "metadata": {},
   "outputs": [],
   "source": [
    "# create the dataframes and appropriate variables \n",
    "x_visual = x_mushroom.drop(columns='odor')"
   ]
  },
  {
   "cell_type": "markdown",
   "metadata": {},
   "source": [
    "### Decision Tree Classifier"
   ]
  },
  {
   "cell_type": "code",
   "execution_count": null,
   "metadata": {
    "scrolled": false
   },
   "outputs": [],
   "source": [
    "classification(DecisionTreeClassifier, x_visual, y_mushroom, random_state=42)"
   ]
  },
  {
   "cell_type": "markdown",
   "metadata": {},
   "source": [
    "### C-Support Vector Classifier"
   ]
  },
  {
   "cell_type": "code",
   "execution_count": null,
   "metadata": {},
   "outputs": [],
   "source": [
    "classification(SVC, x_visual, y_mushroom, random_state=42) "
   ]
  },
  {
   "cell_type": "markdown",
   "metadata": {},
   "source": [
    "### K-Neighbors Classifier"
   ]
  },
  {
   "cell_type": "code",
   "execution_count": null,
   "metadata": {},
   "outputs": [],
   "source": [
    "classification(KNeighborsClassifier, x_visual, y_mushroom, n_neighbors=5)"
   ]
  },
  {
   "cell_type": "markdown",
   "metadata": {},
   "source": [
    "### Logistic Regression Classifier"
   ]
  },
  {
   "cell_type": "code",
   "execution_count": null,
   "metadata": {},
   "outputs": [],
   "source": [
    "classification(LogisticRegression, x_visual, y_mushroom, max_iter=10000, random_state=42) "
   ]
  },
  {
   "cell_type": "markdown",
   "metadata": {},
   "source": [
    "### Gaussian Naive Bayes Classifier"
   ]
  },
  {
   "cell_type": "code",
   "execution_count": null,
   "metadata": {},
   "outputs": [],
   "source": [
    "classification(GaussianNB, x_visual, y_mushroom)"
   ]
  },
  {
   "cell_type": "markdown",
   "metadata": {},
   "source": [
    "### Random Forest Classifier"
   ]
  },
  {
   "cell_type": "code",
   "execution_count": null,
   "metadata": {},
   "outputs": [],
   "source": [
    "classification(RandomForestClassifier, x_visual, y_mushroom, n_estimators=100, random_state=42)"
   ]
  },
  {
   "cell_type": "markdown",
   "metadata": {},
   "source": [
    "### Linear Discriminant Classifier"
   ]
  },
  {
   "cell_type": "code",
   "execution_count": null,
   "metadata": {
    "scrolled": true
   },
   "outputs": [],
   "source": [
    "classification(LinearDiscriminantAnalysis, x_visual, y_mushroom)"
   ]
  },
  {
   "cell_type": "markdown",
   "metadata": {},
   "source": [
    "### Neural Network Multi-layer Perceptron Classifier"
   ]
  },
  {
   "cell_type": "code",
   "execution_count": null,
   "metadata": {},
   "outputs": [],
   "source": [
    "classification(MLPClassifier, x_visual, y_mushroom, random_state=42)"
   ]
  },
  {
   "cell_type": "markdown",
   "metadata": {},
   "source": [
    "## Conclusions"
   ]
  },
  {
   "cell_type": "markdown",
   "metadata": {},
   "source": [
    "After examining features of this dataset, performing analysis and feature exploration, and creating some classification models, we can decisively conclude that making a pleasant smelling mushroom stew also equates to making one that will not result in a trip to the hostpital. This is to say, an 'Odor' of None, Anise, or Almond on a mushroom is the strongest indicator of an Edible Mushroom. Following **'Odor'**, **'gill-size-broad**, and **'spore-print-color'**(not chocolate, green or white) are the next best indicators of an edible fungus.\n",
    "\n",
    "Overall, every classifier performed excellent on the set, all able to classify edible mushrooms with above 96% accuracy. The Decision Tree classifier could be considered the most useful due to its flowchart display, which a forager could print out to accompany them in the woods\n",
    "\n",
    "\n",
    "If we were to imagine a scenario where the sense of smell is not available to us, then it is important to consider a wider range of factors. The best indicators we could look for would be a broad gill size (**'gill-size'**), a rooted stalk root (**'stalk-root'**) and Crowded **'gill-spacing'**.\n",
    "\n",
    "In this case, the only classifier that would be advised against would be the Naive Bayes, as it could only predict with 83% accuracy, not a chance many would like to take."
   ]
  }
 ],
 "metadata": {
  "kernelspec": {
   "display_name": "Python 3",
   "language": "python",
   "name": "python3"
  },
  "language_info": {
   "codemirror_mode": {
    "name": "ipython",
    "version": 3
   },
   "file_extension": ".py",
   "mimetype": "text/x-python",
   "name": "python",
   "nbconvert_exporter": "python",
   "pygments_lexer": "ipython3",
   "version": "3.8.5"
  }
 },
 "nbformat": 4,
 "nbformat_minor": 2
}
