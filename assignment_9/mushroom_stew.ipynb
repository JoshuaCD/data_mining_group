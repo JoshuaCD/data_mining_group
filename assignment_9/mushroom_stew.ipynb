{
 "cells": [
  {
   "cell_type": "markdown",
   "metadata": {},
   "source": [
    "# Mushroom Stew\n",
    "\n",
    "## Develop a mushroom stew, that is visually appealing, pleasingly smelling, and preferably non-toxic.\n",
    "\n",
    "* Explore the fields, which ones could affect the taste or smell, which can be ignored? \n",
    "* Which fields may affect if the stew is visually appealing? \n",
    "* Use graphics to support your choices"
   ]
  },
  {
   "cell_type": "markdown",
   "metadata": {},
   "source": [
    "## Import Libraries"
   ]
  },
  {
   "cell_type": "code",
   "execution_count": null,
   "metadata": {},
   "outputs": [],
   "source": [
    "import numpy as np\n",
    "import pandas as pd\n",
    "import seaborn as sns\n",
    "import matplotlib.pyplot as plt\n",
    "import matplotlib\n",
    "import plotly.express as px\n",
    "from pandas_profiling import ProfileReport\n",
    "from urllib.request import urlopen\n",
    "import json\n",
    "import plotly.graph_objects as go\n",
    "import statsmodels.api as sm\n",
    "import statsmodels.formula.api as smf\n",
    "from statsmodels.tools.eval_measures import rmse\n",
    "from sklearn.preprocessing import StandardScaler\n",
    "from sklearn.preprocessing import LabelEncoder\n",
    "from sklearn.model_selection import train_test_split\n",
    "from sklearn.linear_model import LogisticRegression\n",
    "from sklearn.neighbors import KNeighborsClassifier\n",
    "from sklearn.svm import SVC\n",
    "from sklearn.neural_network import MLPClassifier\n",
    "from sklearn.naive_bayes import GaussianNB\n",
    "from sklearn import tree\n",
    "from sklearn.tree import DecisionTreeClassifier\n",
    "from sklearn.tree import plot_tree\n",
    "from sklearn.ensemble import RandomForestClassifier\n",
    "from sklearn.discriminant_analysis import LinearDiscriminantAnalysis\n",
    "from sklearn.metrics import classification_report\n",
    "from sklearn.metrics import confusion_matrix\n",
    "from sklearn.metrics import accuracy_score\n",
    "import sklearn.metrics as metrics"
   ]
  },
  {
   "cell_type": "markdown",
   "metadata": {},
   "source": [
    "## Load Dataset, Explore and Display Features"
   ]
  },
  {
   "cell_type": "code",
   "execution_count": null,
   "metadata": {},
   "outputs": [],
   "source": [
    "col_names=['class','cap-shape', 'cap-surface', 'cap-color', 'bruises?', 'odor','gill-attachment',\\\n",
    "           'gill-spacing','gill-size','gill-color','stalk-shape','stalk-root','stalk-surface-above-ring',\\\n",
    "           'stalk-surface-below-ring','stalk-color-above-ring','stalk-color-below-ring','veil-type',\\\n",
    "           'veil-color','ring-number','ring-type','spore-print-color','population','habitat'] \n",
    "\n",
    "mushroom_df = pd.read_csv('expanded.csv', names=col_names, header=None)"
   ]
  },
  {
   "cell_type": "code",
   "execution_count": null,
   "metadata": {},
   "outputs": [],
   "source": [
    "pd.set_option(\"display.max_columns\", None)\n",
    "mushroom_df.head(5)"
   ]
  },
  {
   "cell_type": "code",
   "execution_count": null,
   "metadata": {},
   "outputs": [],
   "source": [
    "mushroom_df.dtypes"
   ]
  },
  {
   "cell_type": "code",
   "execution_count": null,
   "metadata": {},
   "outputs": [],
   "source": [
    "mushroom_df.describe()"
   ]
  },
  {
   "cell_type": "code",
   "execution_count": null,
   "metadata": {},
   "outputs": [],
   "source": [
    "profile = ProfileReport(mushroom_df)\n",
    "profile"
   ]
  },
  {
   "cell_type": "markdown",
   "metadata": {},
   "source": [
    "## Feature Engineering\n"
   ]
  },
  {
   "cell_type": "markdown",
   "metadata": {},
   "source": [
    "### The field `veil-type` doesn't contribute any information (all are the same value) and can be dropped from the dataset"
   ]
  },
  {
   "cell_type": "code",
   "execution_count": null,
   "metadata": {},
   "outputs": [],
   "source": [
    "mushroom_df_adj = mushroom_df.drop('veil-type', axis=1)\n",
    "mushroom_df_adj.shape"
   ]
  },
  {
   "cell_type": "markdown",
   "metadata": {},
   "source": [
    "## Dataframe Expanded into Dummy Variables"
   ]
  },
  {
   "cell_type": "markdown",
   "metadata": {},
   "source": [
    "### First version: encode all variables with `get_dummies`"
   ]
  },
  {
   "cell_type": "code",
   "execution_count": null,
   "metadata": {},
   "outputs": [],
   "source": [
    "df_dummy = pd.get_dummies(mushroom_df, columns=col_names)\n",
    "\n",
    "df_dummy.head()"
   ]
  },
  {
   "cell_type": "markdown",
   "metadata": {},
   "source": [
    "### Second version: Label encode the \"class\" column and encode the input columns using `get_dummies`"
   ]
  },
  {
   "cell_type": "code",
   "execution_count": null,
   "metadata": {},
   "outputs": [],
   "source": [
    "# Don't convert \"class\" column to dummies, convert to Binary instead using LabelEncoder\n",
    "\n",
    "# label_encoder object\n",
    "label_encoder =LabelEncoder()\n",
    "# Encode labels in column. \n",
    "mushroom_df_adj['class']= label_encoder.fit_transform(mushroom_df_adj['class']) # 0 is Edible, 1 is Poisonous\n",
    "\n",
    "col_names_dummies=['cap-shape', 'cap-surface', 'cap-color', 'bruises?', 'odor','gill-attachment',\\\n",
    "           'gill-spacing','gill-size','gill-color','stalk-shape','stalk-root','stalk-surface-above-ring',\\\n",
    "           'stalk-surface-below-ring','stalk-color-above-ring','stalk-color-below-ring',\\\n",
    "           'veil-color','ring-number','ring-type','spore-print-color','population','habitat'] "
   ]
  },
  {
   "cell_type": "code",
   "execution_count": null,
   "metadata": {},
   "outputs": [],
   "source": [
    "# drop_first = True helps avoid multicollinearity\n",
    "df_dummy2 = pd.get_dummies(mushroom_df_adj, columns=col_names_dummies, drop_first=True)\n",
    "df_dummy2.head()"
   ]
  },
  {
   "cell_type": "markdown",
   "metadata": {},
   "source": [
    "## Pleasant Smell"
   ]
  },
  {
   "cell_type": "code",
   "execution_count": null,
   "metadata": {},
   "outputs": [],
   "source": [
    "good_odor = ['ALMOND','ANISE','SPICY'] # Up to interpretation I suppose\n",
    "\n",
    "uniq_vals = mushroom_df['odor'].unique()\n",
    "count_edible=[]\n",
    "count_poison=[]\n",
    "for j in uniq_vals:\n",
    "    count_edible.append(len(mushroom_df[(mushroom_df['odor']==j)\n",
    "                                            & (mushroom_df['class']=='EDIBLE')]))\n",
    "    count_poison.append(len(mushroom_df[(mushroom_df['odor']==j)\n",
    "                                            & (mushroom_df['class']=='POISONOUS')]))\n",
    "fig, ax = plt.subplots(figsize=(9,6))\n",
    "\n",
    "ax.bar(uniq_vals, count_edible, label='EDIBLE',color='b')\n",
    "ax.bar(uniq_vals, count_poison, label='POISONOUS', bottom=count_edible,color='r')\n",
    "\n",
    "ax.set_ylabel('Count')\n",
    "ax.set_title('Mushroom Edibility by Feature: ODOR')\n",
    "ax.legend()\n",
    "plt.show()"
   ]
  },
  {
   "cell_type": "markdown",
   "metadata": {},
   "source": [
    "We can see from the above plot that nearly all mushrooms with a smell that is not Almond, Anise, or None are Poisonous."
   ]
  },
  {
   "cell_type": "markdown",
   "metadata": {},
   "source": [
    "## Correlation Heatmaps"
   ]
  },
  {
   "cell_type": "markdown",
   "metadata": {},
   "source": [
    "Let's look at the data another way, and observe what kind of affect different combinations of the variables have. "
   ]
  },
  {
   "cell_type": "code",
   "execution_count": null,
   "metadata": {},
   "outputs": [],
   "source": [
    "# Create crosstables of different groupings of the variables\n",
    "cap_xtab = pd.crosstab(mushroom_df['class'],\\\n",
    "                   columns=[mushroom_df['cap-shape'], mushroom_df['cap-surface'], \\\n",
    "                            mushroom_df['cap-color'], mushroom_df['bruises?']]) \n",
    "\n",
    "gill_xtab = pd.crosstab(mushroom_df['class'],\\\n",
    "                    columns=[mushroom_df['odor'],mushroom_df['gill-attachment'],\\\n",
    "                            mushroom_df['gill-spacing'], mushroom_df['gill-size'], \\\n",
    "                            mushroom_df['gill-color']])\n",
    "\n",
    "stalk_xtab = pd.crosstab(mushroom_df['class'],\\\n",
    "                     columns=[mushroom_df['stalk-shape'],mushroom_df['stalk-root'],\\\n",
    "                            mushroom_df['stalk-surface-above-ring'],\\\n",
    "                            mushroom_df['stalk-surface-below-ring'],\\\n",
    "                            mushroom_df['stalk-color-above-ring'],\\\n",
    "                            mushroom_df['stalk-color-below-ring']])\n",
    "\n",
    "other_xtab = pd.crosstab(mushroom_df['class'],\\\n",
    "                    columns=[mushroom_df['veil-type'],mushroom_df['veil-color'],\\\n",
    "                            mushroom_df['ring-number'],mushroom_df['spore-print-color'],\n",
    "                            mushroom_df['population'], mushroom_df['habitat']])\n"
   ]
  },
  {
   "cell_type": "code",
   "execution_count": null,
   "metadata": {},
   "outputs": [],
   "source": [
    "# An example of what one of the cross tables looks like \n",
    "gill_xtab"
   ]
  },
  {
   "cell_type": "code",
   "execution_count": null,
   "metadata": {},
   "outputs": [],
   "source": [
    "sns.heatmap(cap_xtab)"
   ]
  },
  {
   "cell_type": "code",
   "execution_count": null,
   "metadata": {},
   "outputs": [],
   "source": [
    "sns.heatmap(gill_xtab)"
   ]
  },
  {
   "cell_type": "code",
   "execution_count": null,
   "metadata": {},
   "outputs": [],
   "source": [
    "sns.heatmap(stalk_xtab)"
   ]
  },
  {
   "cell_type": "code",
   "execution_count": null,
   "metadata": {},
   "outputs": [],
   "source": [
    "sns.heatmap(other_xtab)"
   ]
  },
  {
   "cell_type": "markdown",
   "metadata": {},
   "source": [
    "## Violin Plot "
   ]
  },
  {
   "cell_type": "markdown",
   "metadata": {},
   "source": [
    "The previous heatmaps are interesting, but are dense and a little confusing; a violin plot is a good way to take in the variables at a glance. "
   ]
  },
  {
   "cell_type": "code",
   "execution_count": null,
   "metadata": {},
   "outputs": [],
   "source": [
    "labelencoder=LabelEncoder()\n",
    "mushroom_df_encoded = mushroom_df.copy()\n",
    "for column in mushroom_df_encoded.columns:\n",
    "    mushroom_df_encoded[column] = labelencoder.fit_transform(mushroom_df_encoded[column])\n",
    "\n",
    "df_div = pd.melt(mushroom_df_encoded.drop(\"veil-type\",axis=1),\n",
    "                 'class', var_name='Characteristics')\n",
    "fig, ax = plt.subplots(figsize=(22,10))\n",
    "\n",
    "p = sns.violinplot(ax = ax, x='Characteristics', y='value',\n",
    "                   hue='class', split = True, data=df_div,\n",
    "                   inner = 'quartile', palette = 'Set1')\n",
    "\n",
    "df_no_class = mushroom_df_encoded.drop(['class','veil-type'],axis = 1)\n",
    "p.set_xticklabels(rotation = 90, labels = list(df_no_class.columns))\n",
    "\n",
    "plt.show()"
   ]
  },
  {
   "cell_type": "markdown",
   "metadata": {},
   "source": [
    "As we can see from the above violin plot, gill color, spore print color, and habitat seem to have strong indications of edibility. Let's see if our intuition is correct by looking at the edibility numbers for each variable."
   ]
  },
  {
   "cell_type": "markdown",
   "metadata": {},
   "source": [
    "## Edibility Histograms"
   ]
  },
  {
   "cell_type": "code",
   "execution_count": null,
   "metadata": {},
   "outputs": [],
   "source": [
    "set(mushroom_df['odor'])\n",
    "        \n",
    "for column in mushroom_df.drop([\"class\"], axis=1).columns:\n",
    "    uniq_vals = mushroom_df[column].unique()\n",
    "    count_edible=[]\n",
    "    count_poison=[]\n",
    "\n",
    "    for j in uniq_vals:\n",
    "        count_edible.append(len(mushroom_df[(mushroom_df[column]==j)\n",
    "                                            & (mushroom_df['class']=='EDIBLE')]))\n",
    "        count_poison.append(len(mushroom_df[(mushroom_df[column]==j)\n",
    "                                            & (mushroom_df['class']=='POISONOUS')]))\n",
    "    fig, ax = plt.subplots()\n",
    "    ax.bar(uniq_vals, count_edible, label='EDIBLE',color='b')\n",
    "    ax.bar(uniq_vals, count_poison, label='POISONOUS', bottom=count_edible,color='r')\n",
    "\n",
    "    ax.set_ylabel('Count')\n",
    "    ax.set_title('Mushroom Edibility by Feature: '+column.upper())\n",
    "    ax.legend()\n",
    "    fig.tight_layout()\n",
    "    plt.show()"
   ]
  },
  {
   "cell_type": "markdown",
   "metadata": {},
   "source": [
    "From the above histograms, we can conclude that `bruises` might also be a good indicator of edibility."
   ]
  },
  {
   "cell_type": "markdown",
   "metadata": {},
   "source": [
    "## Run 6 Classifier Models"
   ]
  },
  {
   "cell_type": "code",
   "execution_count": null,
   "metadata": {},
   "outputs": [],
   "source": [
    "y = df_dummy2[\"class\"].values\n",
    "X = df_dummy2.drop([\"class\"], axis=1).values\n",
    "# Split data for train and test.\n",
    "X_train, X_test, y_train, y_test = train_test_split(X,y,random_state=42,test_size=0.2)"
   ]
  },
  {
   "cell_type": "code",
   "execution_count": null,
   "metadata": {},
   "outputs": [],
   "source": [
    "matplotlib.rcParams['figure.figsize'] = [12, 8]\n",
    "sns.set_style('darkgrid')\n",
    "sns.set(font_scale=1.2)\n",
    "%matplotlib inline"
   ]
  },
  {
   "cell_type": "code",
   "execution_count": null,
   "metadata": {},
   "outputs": [],
   "source": [
    "def classification(method, x_dat, y_dat, **params): # I took classification type out but we might want it)\n",
    "    \n",
    "    # Split data for train and test\n",
    "    X_train, X_test, y_train, y_test = train_test_split(x_dat,y_dat,random_state=42,test_size=0.2)\n",
    "    \n",
    "    #fit model\n",
    "    mod = method(**params)\n",
    "    mod.fit(X_train, y_train)\n",
    "    y_pred = mod.predict(X_test)\n",
    "    \n",
    "    #print results\n",
    "    print(\"Results for {}:\".format(str(method)))\n",
    "    print(classification_report(y_pred, y_test))\n",
    "    print(\"Test Accuracy: {}%\".format(round(mod.score(X_test,y_test)*100,2)))\n",
    "    \n",
    "    #print confusion matrix\n",
    "    y_pred_rf = y_pred\n",
    "    y_true_rf = y_test\n",
    "    cm = confusion_matrix(y_true_rf, y_pred_rf)\n",
    "    f, ax = plt.subplots(figsize =(5,5))\n",
    "    sns.heatmap(cm,annot = True,linewidths=0.5,linecolor=\"red\",fmt = \".0f\",ax=ax)\n",
    "    plt.xlabel(\"y_pred_rf\")\n",
    "    plt.ylabel(\"y_true_rf\")\n",
    "    plt.title('Confusion Matrix')\n",
    "    plt.show()\n",
    "    \n",
    "    if method == DecisionTreeClassifier:\n",
    "        print('Feature Importance Plot')\n",
    "        sns.barplot(y=x_dat.columns, x=mod.feature_importances_)\n",
    "        plt.xlabel('Mean Decrease Gini')\n",
    "        plt.show()\n",
    "        \n",
    "    if method == DecisionTreeClassifier:\n",
    "        plot_tree(mod.fit(X_train, y_train))"
   ]
  },
  {
   "cell_type": "code",
   "execution_count": null,
   "metadata": {},
   "outputs": [],
   "source": [
    "x_mushroom = df_dummy2.drop([\"class\"], axis=1)\n",
    "y_mushroom = df_dummy2[\"class\"]"
   ]
  },
  {
   "cell_type": "code",
   "execution_count": null,
   "metadata": {},
   "outputs": [],
   "source": [
    "# Split data for train and test\n",
    "X_train_DT, X_test_DT, y_train_DT, y_test_DT = train_test_split(x_mushroom,y_mushroom,random_state=42,test_size=0.2)\n",
    "\n",
    "#fit model\n",
    "DT_mod = DecisionTreeClassifier()\n",
    "DT_mod.fit(X_train_DT, y_train_DT)\n",
    "y_pred = DT_mod.predict(X_test_DT)        "
   ]
  },
  {
   "cell_type": "code",
   "execution_count": null,
   "metadata": {},
   "outputs": [],
   "source": [
    "print('Feature Importance Plot')\n",
    "sns.barplot(y=x_mushroom.columns, x=DT_mod.feature_importances_)\n",
    "plt.xlabel('Mean Decrease Gini')\n",
    "plt.show()"
   ]
  },
  {
   "cell_type": "code",
   "execution_count": null,
   "metadata": {},
   "outputs": [],
   "source": [
    "text_representation = tree.export_text(DT_mod)\n",
    "print(text_representation)"
   ]
  },
  {
   "cell_type": "code",
   "execution_count": null,
   "metadata": {},
   "outputs": [],
   "source": [
    "feature_names = df_dummy2.drop([\"class\"], axis=1).columns\n",
    "feature_names"
   ]
  },
  {
   "cell_type": "code",
   "execution_count": null,
   "metadata": {},
   "outputs": [],
   "source": [
    "class_names = df_dummy2[\"class\"]\n",
    "class_names"
   ]
  },
  {
   "cell_type": "code",
   "execution_count": null,
   "metadata": {},
   "outputs": [],
   "source": [
    "fig = plt.figure(figsize=(30,40))\n",
    "plot_tree(DT_mod,filled=True);  \n",
    "\n",
    "#feature_names = df_dummy2.drop([\"class\"], axis=1).columns\n",
    "#feature_names=iris.feature_names, class_names=iris.target_names"
   ]
  },
  {
   "cell_type": "code",
   "execution_count": null,
   "metadata": {},
   "outputs": [],
   "source": [
    "classification(DecisionTreeClassifier, x_mushroom, y_mushroom)"
   ]
  },
  {
   "cell_type": "code",
   "execution_count": null,
   "metadata": {},
   "outputs": [],
   "source": [
    "classification(SVC, x_mushroom, y_mushroom, random_state=42, gamma=\"auto\") # check on parameters, did better with default"
   ]
  },
  {
   "cell_type": "code",
   "execution_count": null,
   "metadata": {},
   "outputs": [],
   "source": [
    "\n",
    "classification(KNeighborsClassifier, x_mushroom, y_mushroom, n_neighbors=5)"
   ]
  },
  {
   "cell_type": "code",
   "execution_count": null,
   "metadata": {},
   "outputs": [],
   "source": [
    "classification(LogisticRegression, x_mushroom, y_mushroom) # on parameters"
   ]
  },
  {
   "cell_type": "code",
   "execution_count": null,
   "metadata": {},
   "outputs": [],
   "source": [
    "classification(GaussianNB, x_mushroom, y_mushroom)"
   ]
  },
  {
   "cell_type": "code",
   "execution_count": null,
   "metadata": {},
   "outputs": [],
   "source": [
    "classification(RandomForestClassifier, x_mushroom, y_mushroom, n_estimators=100, random_state=42) #check on parameters"
   ]
  },
  {
   "cell_type": "code",
   "execution_count": null,
   "metadata": {},
   "outputs": [],
   "source": [
    "classification(LinearDiscriminantAnalysis, x_mushroom, y_mushroom) #check parameters"
   ]
  },
  {
   "cell_type": "code",
   "execution_count": null,
   "metadata": {},
   "outputs": [],
   "source": [
    "# Neural Network Multi-layer Perceptron Classifier\n",
    "\n",
    "classification(MLPClassifier, x_mushroom, y_mushroom)"
   ]
  },
  {
   "cell_type": "markdown",
   "metadata": {},
   "source": [
    "## COVID version: what if we lose our sense of smell?"
   ]
  },
  {
   "cell_type": "markdown",
   "metadata": {},
   "source": [
    "Odor is obviously the most powerful predictive attribute. What happens to our models if we drop that variable and we can only identify mushrooms visually?"
   ]
  },
  {
   "cell_type": "code",
   "execution_count": null,
   "metadata": {},
   "outputs": [],
   "source": [
    "# create the dataframes and appropriate variables \n",
    "odorless = mushroom_df.drop([\"odor\",\"veil-type\"], axis=1)\n",
    "odorless.head()\n",
    "\n",
    "odorless['class']= label_encoder.fit_transform(odorless['class']) # 0 is Edible, 1 is Poisonous\n",
    "odorless_col_names_dummies=['cap-shape', 'cap-surface', 'cap-color', 'bruises?','gill-attachment',\\\n",
    "           'gill-spacing','gill-size','gill-color','stalk-shape','stalk-root','stalk-surface-above-ring',\\\n",
    "           'stalk-surface-below-ring','stalk-color-above-ring','stalk-color-below-ring',\\\n",
    "           'veil-color','ring-number','ring-type','spore-print-color','population','habitat'] \n",
    "\n",
    "# drop_first = True helps avoid multicollinearity\n",
    "odorless_dummy = pd.get_dummies(odorless, columns=odorless_col_names_dummies, drop_first=True)\n",
    "odorless_dummy.head()"
   ]
  },
  {
   "cell_type": "code",
   "execution_count": null,
   "metadata": {},
   "outputs": [],
   "source": [
    "no_odor_y = odorless_dummy[\"class\"].values\n",
    "no_odor_X = odorless_dummy.drop([\"class\"], axis=1).values\n",
    "# Split data for train and test.\n",
    "X_train_vis, X_test_vis, y_train_vis, y_test_vis = train_test_split(no_odor_X,no_odor_y,random_state=42,test_size=0.2)\n",
    "\n",
    "x_visual = odorless_dummy.drop([\"class\"], axis=1)\n",
    "y_visual = odorless_dummy[\"class\"]"
   ]
  },
  {
   "cell_type": "code",
   "execution_count": null,
   "metadata": {},
   "outputs": [],
   "source": [
    "classification(DecisionTreeClassifier, x_visual, y_visual)"
   ]
  },
  {
   "cell_type": "code",
   "execution_count": null,
   "metadata": {},
   "outputs": [],
   "source": [
    "classification(SVC, x_visual, y_visual, random_state=42, gamma=\"auto\") # check on parameters, did better with default"
   ]
  },
  {
   "cell_type": "code",
   "execution_count": null,
   "metadata": {},
   "outputs": [],
   "source": [
    "classification(KNeighborsClassifier, x_visual, y_visual, n_neighbors=5)"
   ]
  },
  {
   "cell_type": "code",
   "execution_count": null,
   "metadata": {},
   "outputs": [],
   "source": [
    "classification(LogisticRegression, x_visual, y_visual) # on parameters"
   ]
  },
  {
   "cell_type": "code",
   "execution_count": null,
   "metadata": {},
   "outputs": [],
   "source": [
    "classification(LinearDiscriminantAnalysis, x_visual, y_visual) #check parameters"
   ]
  },
  {
   "cell_type": "code",
   "execution_count": null,
   "metadata": {},
   "outputs": [],
   "source": [
    "classification(GaussianNB, x_visual, y_visual)"
   ]
  },
  {
   "cell_type": "code",
   "execution_count": null,
   "metadata": {},
   "outputs": [],
   "source": [
    "classification(RandomForestClassifier, x_visual, y_visual, n_estimators=100, random_state=42) #check on parameters"
   ]
  },
  {
   "cell_type": "code",
   "execution_count": null,
   "metadata": {},
   "outputs": [],
   "source": [
    "classification(MLPClassifier, x_visual, y_visual)"
   ]
  }
 ],
 "metadata": {
  "kernelspec": {
   "display_name": "Python 3",
   "language": "python",
   "name": "python3"
  },
  "language_info": {
   "codemirror_mode": {
    "name": "ipython",
    "version": 3
   },
   "file_extension": ".py",
   "mimetype": "text/x-python",
   "name": "python",
   "nbconvert_exporter": "python",
   "pygments_lexer": "ipython3",
   "version": "3.8.5"
  }
 },
 "nbformat": 4,
 "nbformat_minor": 2
}
