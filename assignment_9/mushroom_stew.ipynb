{
 "cells": [
  {
   "cell_type": "markdown",
   "metadata": {},
   "source": [
    "# Mushroom Stew\n",
    "\n",
    "## Develop a mushroom stew, that is visually appealing, pleasingly smelling, and preferably non-toxic.\n",
    "\n",
    "* Explore the fields, which ones could affect the taste or smell, which can be ignored? \n",
    "* Which fields may affect if the stew is visually appealing? \n",
    "* Use graphics to support your choices"
   ]
  },
  {
   "cell_type": "markdown",
   "metadata": {},
   "source": [
    "## Import Libraries"
   ]
  },
  {
   "cell_type": "code",
   "execution_count": null,
   "metadata": {},
   "outputs": [],
   "source": [
    "import numpy as np\n",
    "import pandas as pd\n",
    "import seaborn as sns\n",
    "import matplotlib.pyplot as plt\n",
    "import matplotlib\n",
    "import plotly.express as px\n",
    "#import geopandas\n",
    "from pandas_profiling import ProfileReport\n",
    "from urllib.request import urlopen\n",
    "import json\n",
    "import plotly.graph_objects as go\n",
    "import statsmodels.api as sm\n",
    "import statsmodels.formula.api as smf\n",
    "from statsmodels.tools.eval_measures import rmse\n",
    "from sklearn.preprocessing import StandardScaler\n",
    "from sklearn.linear_model import LinearRegression, RidgeCV, Lasso\n",
    "import sklearn.metrics as metrics\n",
    "from sklearn.ensemble import RandomForestRegressor\n",
    "from xgboost import XGBRegressor, plot_importance"
   ]
  },
  {
   "cell_type": "markdown",
   "metadata": {},
   "source": [
    "## Load Dataset, Explore and Display Features"
   ]
  },
  {
   "cell_type": "code",
   "execution_count": null,
   "metadata": {},
   "outputs": [],
   "source": [
    "col_names=['class','cap-shape', 'cap-surface', 'cap-color', 'bruises?', 'odor','gill-attachment',\\\n",
    "           'gill-spacing','gill-size','gill-color','stalk-shape','stalk-root','stalk-surface-above-ring',\\\n",
    "           'stalk-surface-below-ring','stalk-color-above-ring','stalk-color-below-ring','veil-type',\\\n",
    "           'veil-color','ring-number','ring-type','spore-print-color','population','habitat'] \n",
    "\n",
    "mushroom_df = pd.read_csv('expanded.csv', names=col_names, header=None)"
   ]
  },
  {
   "cell_type": "code",
   "execution_count": null,
   "metadata": {},
   "outputs": [],
   "source": [
    "pd.set_option(\"display.max_columns\", None)\n",
    "mushroom_df.head(5)"
   ]
  },
  {
   "cell_type": "code",
   "execution_count": null,
   "metadata": {},
   "outputs": [],
   "source": [
    "mushroom_df.dtypes"
   ]
  },
  {
   "cell_type": "code",
   "execution_count": null,
   "metadata": {},
   "outputs": [],
   "source": [
    "mushroom_df.describe()"
   ]
  },
  {
   "cell_type": "code",
   "execution_count": null,
   "metadata": {},
   "outputs": [],
   "source": [
    "profile = ProfileReport(mushroom_df)\n",
    "profile"
   ]
  },
  {
   "cell_type": "markdown",
   "metadata": {},
   "source": [
    "## Dataframe Expanded into Dummy Variables"
   ]
  },
  {
   "cell_type": "code",
   "execution_count": null,
   "metadata": {},
   "outputs": [],
   "source": [
    "df_dummy = pd.get_dummies(mushroom_df, columns=col_names)\n",
    "\n",
    "df_dummy.head()"
   ]
  },
  {
   "cell_type": "markdown",
   "metadata": {},
   "source": [
    "## Correlation Heatmaps"
   ]
  },
  {
   "cell_type": "code",
   "execution_count": null,
   "metadata": {},
   "outputs": [],
   "source": [
    "cap_xtab = pd.crosstab(mushroom_df['class'],\\\n",
    "                   columns=[mushroom_df['cap-shape'], mushroom_df['cap-surface'], \\\n",
    "                            mushroom_df['cap-color'], mushroom_df['bruises?']]) \n",
    "\n",
    "gill_xtab = pd.crosstab(mushroom_df['class'],\\\n",
    "                    columns=[mushroom_df['odor'],mushroom_df['gill-attachment'],\\\n",
    "                            mushroom_df['gill-spacing'], mushroom_df['gill-size'], \\\n",
    "                            mushroom_df['gill-color']])\n",
    "\n",
    "stalk_xtab = pd.crosstab(mushroom_df['class'],\\\n",
    "                     columns=[mushroom_df['stalk-shape'],mushroom_df['stalk-root'],\\\n",
    "                            mushroom_df['stalk-surface-above-ring'],\\\n",
    "                            mushroom_df['stalk-surface-below-ring'],\\\n",
    "                            mushroom_df['stalk-color-above-ring'],\\\n",
    "                            mushroom_df['stalk-color-below-ring']])\n",
    "\n",
    "other_xtab = pd.crosstab(mushroom_df['class'],\\\n",
    "                    columns=[mushroom_df['veil-type'],mushroom_df['veil-color'],\\\n",
    "                            mushroom_df['ring-number'],mushroom_df['spore-print-color'],\n",
    "                            mushroom_df['population'], mushroom_df['habitat']])\n"
   ]
  },
  {
   "cell_type": "code",
   "execution_count": null,
   "metadata": {},
   "outputs": [],
   "source": [
    "sns.heatmap(cap_xtab)"
   ]
  },
  {
   "cell_type": "code",
   "execution_count": null,
   "metadata": {},
   "outputs": [],
   "source": [
    "sns.heatmap(gill_xtab)"
   ]
  },
  {
   "cell_type": "code",
   "execution_count": null,
   "metadata": {},
   "outputs": [],
   "source": [
    "sns.heatmap(stalk_xtab)"
   ]
  },
  {
   "cell_type": "code",
   "execution_count": null,
   "metadata": {},
   "outputs": [],
   "source": [
    "sns.heatmap(other_xtab)"
   ]
  }
 ],
 "metadata": {
  "kernelspec": {
   "display_name": "Python 3",
   "language": "python",
   "name": "python3"
  },
  "language_info": {
   "codemirror_mode": {
    "name": "ipython",
    "version": 3
   },
   "file_extension": ".py",
   "mimetype": "text/x-python",
   "name": "python",
   "nbconvert_exporter": "python",
   "pygments_lexer": "ipython3",
   "version": "3.8.5"
  }
 },
 "nbformat": 4,
 "nbformat_minor": 2
}
