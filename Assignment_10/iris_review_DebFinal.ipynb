{
 "cells": [
  {
   "cell_type": "markdown",
   "metadata": {},
   "source": [
    "# Iris Dataset\n",
    "\n",
    "* Employ Naive Bayes and other classification techniques\n",
    "* Develop a conclusion from each technique and compare results among techniques \n",
    "* Discuss/Compare all analysis techniques used on the iris dataset over the term (assignments 3 & 5): \n",
    "    * which worked best, which worked the least and why?"
   ]
  },
  {
   "cell_type": "markdown",
   "metadata": {},
   "source": [
    "## Import Libraries"
   ]
  },
  {
   "cell_type": "code",
   "execution_count": null,
   "metadata": {},
   "outputs": [],
   "source": [
    "import numpy as np\n",
    "import pandas as pd\n",
    "import seaborn as sns\n",
    "import matplotlib.pyplot as plt\n",
    "from pandas_profiling import ProfileReport\n",
    "from sklearn.datasets import load_iris\n",
    "from sklearn.preprocessing import normalize\n",
    "from sklearn.linear_model import LogisticRegression\n",
    "from sklearn.neighbors import KNeighborsClassifier\n",
    "from sklearn.svm import SVC\n",
    "from sklearn.neural_network import MLPClassifier\n",
    "from sklearn.naive_bayes import GaussianNB, BernoulliNB, MultinomialNB\n",
    "from sklearn.tree import DecisionTreeClassifier\n",
    "from sklearn.ensemble import RandomForestClassifier, VotingClassifier\n",
    "from sklearn.discriminant_analysis import LinearDiscriminantAnalysis, QuadraticDiscriminantAnalysis\n",
    "from sklearn.metrics import classification_report, confusion_matrix, accuracy_score\n",
    "from sklearn.pipeline import Pipeline\n",
    "from sklearn.inspection import permutation_importance\n",
    "from sklearn.neighbors import RadiusNeighborsClassifier\n",
    "from sklearn.linear_model import PassiveAggressiveClassifier\n",
    "from sklearn.gaussian_process import GaussianProcessClassifier\n",
    "from sklearn.neighbors import NearestCentroid\n",
    "import re"
   ]
  },
  {
   "cell_type": "code",
   "execution_count": null,
   "metadata": {},
   "outputs": [],
   "source": [
    "# Set Plotting Scale Params\n",
    "plt.rcParams['figure.figsize'] = (16, 12)\n",
    "sns.set_style('darkgrid')\n",
    "%matplotlib inline"
   ]
  },
  {
   "cell_type": "markdown",
   "metadata": {},
   "source": [
    "## Defining Classes/Functions"
   ]
  },
  {
   "cell_type": "code",
   "execution_count": null,
   "metadata": {},
   "outputs": [],
   "source": [
    "accuracy_dict = dict()"
   ]
  },
  {
   "cell_type": "code",
   "execution_count": null,
   "metadata": {},
   "outputs": [],
   "source": [
    "### Defining Classes/Functions\n",
    "\n",
    "def classification(method, x_dat, y_dat, **params): \n",
    "    \n",
    "    #fit model\n",
    "    mod = Pipeline([ ('classify', method(**params)) ])\n",
    "    mod.fit(x_dat, y_dat)\n",
    "    y_pred = mod.predict(x_dat)\n",
    "    \n",
    "    #print results\n",
    "    print(\"Results for {}:\".format(method.__name__))\n",
    "    print(classification_report(y_dat, y_pred,zero_division=0))\n",
    "    print(\"Test Accuracy: {}%\".format(round(mod.score(x_dat, y_dat)*100,2)))\n",
    "    short_name = re.findall('[^.]+[\\w]', str(method))\n",
    "    accuracy_dict.update({short_name[-1]:round(mod.score(x_dat, y_dat)*100,2)})\n",
    "    \n",
    "    #print confusion matrix\n",
    "    y_pred_rf = y_pred\n",
    "    y_true_rf = y_dat\n",
    "    cm = confusion_matrix(y_true_rf, y_pred_rf)\n",
    "    f, ax = plt.subplots(figsize =(5,5))\n",
    "    sns.heatmap(cm,annot = True,linewidths=0.5,linecolor=\"red\",fmt = \".0f\",ax=ax)\n",
    "    plt.xlabel(\"y_pred_rf\")\n",
    "    plt.ylabel(\"y_true_rf\")\n",
    "    plt.title('Confusion Matrix')\n",
    "    plt.show()\n",
    "    \n",
    "    # Calculate permutation feature importance\n",
    "    # permutation feature importance - the decrease in a model score when a single feature value is randomly shuffled\n",
    "    # thus the drop in the model score is indicative of how much the model depends on the feature\n",
    "    # (n_jobs=-1 means using all processors)\n",
    "    try:\n",
    "        imp = permutation_importance(mod, x_dat, y_dat, n_jobs=-1)\n",
    "        \n",
    "        #Generate feature importance plot\n",
    "        plt.figure(figsize=(12,8))\n",
    "        importance_data = pd.DataFrame({'feature':x_dat.columns, 'importance':imp.importances_mean})\n",
    "        sns.barplot(x='importance', y='feature', data=importance_data)\n",
    "        plt.title('Permutation Feature Importance')\n",
    "        plt.xlabel('Mean Decrease in F1 Score')\n",
    "        plt.ylabel('')\n",
    "        plt.show()\n",
    "    \n",
    "    except:\n",
    "        print('No Feature Importance Available')      \n",
    "    "
   ]
  },
  {
   "cell_type": "markdown",
   "metadata": {},
   "source": [
    "## Load Dataset, Explore and Display Features"
   ]
  },
  {
   "cell_type": "code",
   "execution_count": null,
   "metadata": {},
   "outputs": [],
   "source": [
    "iris = load_iris()\n",
    "iris_df = pd.DataFrame(data= np.c_[iris['data'], iris['target']],\n",
    "                     columns= iris['feature_names'] + ['target'])\n",
    "iris_df['target'] = iris_df['target'].replace([0,1,2],['setosa', 'versicolor', 'virginica'])"
   ]
  },
  {
   "cell_type": "code",
   "execution_count": null,
   "metadata": {},
   "outputs": [],
   "source": [
    "iris_df"
   ]
  },
  {
   "cell_type": "code",
   "execution_count": null,
   "metadata": {},
   "outputs": [],
   "source": [
    "iris_df.shape"
   ]
  },
  {
   "cell_type": "code",
   "execution_count": null,
   "metadata": {},
   "outputs": [],
   "source": [
    "iris_df.info()"
   ]
  },
  {
   "cell_type": "code",
   "execution_count": null,
   "metadata": {},
   "outputs": [],
   "source": [
    "iris_df['target'].describe()"
   ]
  },
  {
   "cell_type": "code",
   "execution_count": null,
   "metadata": {},
   "outputs": [],
   "source": [
    "iris_df.describe()"
   ]
  },
  {
   "cell_type": "code",
   "execution_count": null,
   "metadata": {},
   "outputs": [],
   "source": [
    "profile = ProfileReport(iris_df)\n",
    "profile"
   ]
  },
  {
   "cell_type": "code",
   "execution_count": null,
   "metadata": {},
   "outputs": [],
   "source": [
    "iris_df.corr()"
   ]
  },
  {
   "cell_type": "markdown",
   "metadata": {},
   "source": [
    "## Split into feature and target data"
   ]
  },
  {
   "cell_type": "code",
   "execution_count": null,
   "metadata": {},
   "outputs": [],
   "source": [
    "# Note these x and y values will be used in the first set of classification models\n",
    "# The second set of classification models uses this y value but a modified x value\n",
    "x_iris = iris_df.drop([\"target\"], axis=1)\n",
    "y_iris = iris_df[\"target\"]"
   ]
  },
  {
   "cell_type": "markdown",
   "metadata": {},
   "source": [
    "## Classification Models\n",
    "#### Note: where applicable, random_state=42 in our models sets a seed so that results will be reproducible"
   ]
  },
  {
   "cell_type": "markdown",
   "metadata": {},
   "source": [
    "## Generative and Discriminative Classifers\n",
    "\n",
    "* Generative classifiers take in training data and create probability estimates.  The model then uses this probability to make predictions, choosing the most likely class.\n",
    "\n",
    "* Discriminative classifiers estimate predictions directly, rather than estimate likelihoods. A decision boundary is created that creates a dividing line/plane between instances of one class and instances of another class. New, unseen instances are classified based on which side of the line/plane they fall. In this way, a direct mapping is generated from attributes to class labels.\n",
    "\n",
    "### Note that this analysis looks at 6 Generative Classifiers, 8 Discriminative Classifiers and 2 Ensemble Techniques"
   ]
  },
  {
   "cell_type": "markdown",
   "metadata": {},
   "source": [
    "## Generative Models"
   ]
  },
  {
   "cell_type": "markdown",
   "metadata": {},
   "source": [
    "### Gaussian Naive Bayes Classifier"
   ]
  },
  {
   "cell_type": "code",
   "execution_count": null,
   "metadata": {
    "scrolled": false
   },
   "outputs": [],
   "source": [
    "classification(GaussianNB, x_iris, y_iris)"
   ]
  },
  {
   "cell_type": "markdown",
   "metadata": {},
   "source": [
    "### Multinomial Naive Bayes Classifier"
   ]
  },
  {
   "cell_type": "code",
   "execution_count": null,
   "metadata": {},
   "outputs": [],
   "source": [
    "classification(MultinomialNB, x_iris, y_iris)"
   ]
  },
  {
   "cell_type": "markdown",
   "metadata": {},
   "source": [
    "### Bernoulli Naive Bayes Classifier"
   ]
  },
  {
   "cell_type": "code",
   "execution_count": null,
   "metadata": {},
   "outputs": [],
   "source": [
    "classification(BernoulliNB, x_iris, y_iris)"
   ]
  },
  {
   "cell_type": "markdown",
   "metadata": {},
   "source": [
    "##### Naive Bayes Classification\n",
    "\n",
    "A probabilistic classifer, the Naive Bayes approach relies on applying Bayes' Theorem while assuming that features are independent, hence the \"Naive\". Considering the features to be independent drastically reduces the computational complexity of predicting each output, and in spite of this large simplification the NB classifiers have worked very well in many real-world models. \n",
    "\n",
    "Each observation instance in a NB classification is given a probability for each output class, and the highest probability dictates the predicted output class. These probabilities are generated differently for each type of NB classifier:\n",
    "\n",
    "-**Gaussian** Likelihood of the features is assumed to be Gaussian.  \n",
    "-**Multinomial** Assumes multinomially distrubuted data, used often in text classification. Distribution parameterized by vectors for each class, and more often a feature (i.e. word or phrase) appears in an input vector it increases the probability given by the dot product of the vector in vs. the parameterized class vector.  \n",
    "-**Bernoulli** Likelihood of the features is assumed to be distributed according to multivariate Bernoulli distributions. This is appropriate only for binary feature values so it's no surprise it performed poorly on the Iris dataset.   \n",
    "-**Categorical** assumes encoded input variables, and estimates a categorical distribution.  \n",
    "-**Complement** Similar to Multinomial, but uses statistics from the complement of each class to compute model weights automatically\n",
    "\n",
    "###### Advantages  \n",
    "- Quick run time given independence assumption\n",
    "- When independence assumption is true performs exceptionally\n",
    "- Well suited for categorical models or text classification\n",
    "\n",
    "###### Disadvantages\n",
    "- Independence assumption rarely ever true\n",
    "- In situations where a category is in test or training but not both, the model will only assign a probability of 0 and be unable to make a prediciton. This is known as Zero Frequency, but this can be solved with a smoothing technique called Laplace Estimation"
   ]
  },
  {
   "cell_type": "markdown",
   "metadata": {},
   "source": [
    "### Linear Discriminant Classifier"
   ]
  },
  {
   "cell_type": "code",
   "execution_count": null,
   "metadata": {},
   "outputs": [],
   "source": [
    "classification(LinearDiscriminantAnalysis, x_iris, y_iris)"
   ]
  },
  {
   "cell_type": "markdown",
   "metadata": {},
   "source": [
    "##### Linear Discriminant Analysis Classifier\n",
    "A classifier with a linear decision boundary, generated by fitting class conditional densities to the data and using Bayes’ rule. The model fits a Gaussian density to each class, assuming that all classes share the same covariance matrix. \n",
    "\n",
    "##### Advantages\n",
    "- model is interpretable\n",
    "- simplicity makes prediction easy\n",
    "\n",
    "##### Disadvantages\n",
    "- if the distribution’s mean values are shared between the classes, Linear Discriminant Analysis cannot find a new linearly separable axis\n",
    "\n",
    "_More info:_https://scikit-learn.org/stable/modules/generated/sklearn.discriminant_analysis.LinearDiscriminantAnalysis.html"
   ]
  },
  {
   "cell_type": "markdown",
   "metadata": {},
   "source": [
    "### Quadratic Discriminant Analysis"
   ]
  },
  {
   "cell_type": "code",
   "execution_count": null,
   "metadata": {},
   "outputs": [],
   "source": [
    "classification(QuadraticDiscriminantAnalysis, x_iris, y_iris)"
   ]
  },
  {
   "cell_type": "markdown",
   "metadata": {},
   "source": [
    "##### Quadratric Discriminant Analysis Classifier\n",
    "A classifier with a quadratic decision boundary, generated by fitting class conditional densities to the data and using Bayes’ rule.  The model fits a Gaussian density to each class. The only difference between QDA and LDA is that LDA assumes a shared covariance matrix for the classes and QDA allows class-specific covariance matrices. \n",
    "\n",
    "##### Advantages\n",
    "- tends to fit the data better than LDA\n",
    "\n",
    "##### Disadvantages\n",
    "- more parameters to estimate - more complex model\n",
    "\n",
    "_More info:_https://scikit-learn.org/stable/modules/generated/sklearn.discriminant_analysis.QuadraticDiscriminantAnalysis.html"
   ]
  },
  {
   "cell_type": "markdown",
   "metadata": {},
   "source": [
    "### Gaussian Process Classifier"
   ]
  },
  {
   "cell_type": "code",
   "execution_count": null,
   "metadata": {},
   "outputs": [],
   "source": [
    "classification(GaussianProcessClassifier, x_iris, y_iris, random_state=42)"
   ]
  },
  {
   "cell_type": "markdown",
   "metadata": {},
   "source": [
    "##### Gaussian Process Classifier \n",
    "\n",
    "The Gaussian processes are used for class probabilities; a weight is placed on a latent nuisance function 'f' (meaning that the values in this function are not observed and are not relevant in themselves) and then goes through a link function to obtain the probability. It is assumed that the GP prior mean is zero, and the covariance comes from a kernel object. Multi-class prediction can be performed by using one-versus-rest classification or one-versus-one based training and prediction. One-versus-one is potentially computationally cheaper, but only produces probabilities, not probability estimates. \n",
    "\n",
    "##### Advantages\n",
    "- versatile in terms of kernels\n",
    "- probabilistic prediction can be used for determining confidence intervals and refitting\n",
    "- predictions interpolate the observations\n",
    "\n",
    "##### Disadvantages\n",
    "- uses all features and information to make decisions; not sparse\n",
    "- inefficient in high dimensional spaces\n",
    "\n",
    "_More info:_ https://scikit-learn.org/stable/modules/gaussian_process.html#gaussian-process"
   ]
  },
  {
   "cell_type": "markdown",
   "metadata": {},
   "source": [
    "## Discriminative Models"
   ]
  },
  {
   "cell_type": "markdown",
   "metadata": {},
   "source": [
    "### Decision Tree Classifier"
   ]
  },
  {
   "cell_type": "code",
   "execution_count": null,
   "metadata": {
    "scrolled": false
   },
   "outputs": [],
   "source": [
    "classification(DecisionTreeClassifier, x_iris, y_iris, random_state=42)"
   ]
  },
  {
   "cell_type": "markdown",
   "metadata": {},
   "source": [
    "#### Decision Trees \n",
    "\n",
    "Decision Trees are non-parametric (not based on assumptions, any distribution) models that are used for classification or regression. THey function by splitting the source set of data into subsets based on which variable splits the data \"best\". Different algorithms use different metrics for determining which is the best split:\n",
    "\n",
    "-**Information Gain** roughly equates to the reduction of the entropy at each node. At each node Information Gain is maximized by attempting to choose the split that results in the most consisten child subsets.  \n",
    "-**Gini Impurity** measures how often a radnomly chosen element from the set wiuld be incorrectly labeled if it was randomly labeled according to the distribution of labels in the subset. This is minimized, rather than maximized, and also related to entropy in the system.  \n",
    "-**Variance Reduction** often used when target is continous, is the total reduction of the vasriance of the target variable at each split.  \n",
    "-**Measure of Goodness** an older metric, this seeks to optimize the balance of a candidate split's capacity to create pure children with its capacity to create equally-sized children.   \n",
    "\n",
    "###### Advantages  \n",
    "- Simple to read and understand\n",
    "- Works for continous and categorical outputs\n",
    "- Requires little data preperation and can be used on different distributions\n",
    "- Validation through statistical tests  \n",
    "\n",
    "###### Disadvantages\n",
    "- Some data may create overly complex trees\n",
    "- Can be unstable as slight variations in data can cause big changes (fixed by Random Forrest)\n",
    "\n",
    "More info: https://scikit-learn.org/stable/modules/tree.html"
   ]
  },
  {
   "cell_type": "markdown",
   "metadata": {},
   "source": [
    "### C-Support Vector Classifier"
   ]
  },
  {
   "cell_type": "code",
   "execution_count": null,
   "metadata": {
    "scrolled": false
   },
   "outputs": [],
   "source": [
    "classification(SVC, x_iris, y_iris, random_state=42)"
   ]
  },
  {
   "attachments": {
    "image.png": {
     "image/png": "[encoded data removed]"
    }
   },
   "cell_type": "markdown",
   "metadata": {},
   "source": [
    "#### Support Vector Machines\n",
    "\n",
    "Support Vector Machines construct a series of hyperplanes in number equal to the amount of input variables included in the model. Each of these hyperplanes is a support vector, and they are generally created by creating hyperplanes that have the largest distance to the nearest training data point of each class. These hyperplanes will then \"contain\" or hold each member of the class, and further input data will be classified by whichever sub-section of support vectors it fits in.\n",
    "\n",
    "###### Advantages  \n",
    "- Great for high dimensional spaces or sets with many features\n",
    "- Only uses a subset of training points in generating the support vectors, so memory efficient\n",
    "\n",
    "###### Disadvantages\n",
    "- Does not work well in situations with more features than samples\n",
    "- Uses a computationally expensive five-fold cross-validation, and can cost a lot of run time\n",
    "\n",
    "###### Other SVCs\n",
    "- *NuSVC*\n",
    "- *LinearSVC*\n",
    "\n",
    "![image.png](attachment:image.png)\n",
    "\n",
    "*More Info:* https://scikit-learn.org/stable/modules/svm.html"
   ]
  },
  {
   "cell_type": "markdown",
   "metadata": {},
   "source": [
    "### K Neighbors Classifier"
   ]
  },
  {
   "cell_type": "code",
   "execution_count": null,
   "metadata": {},
   "outputs": [],
   "source": [
    "classification(KNeighborsClassifier, x_iris, y_iris, n_neighbors=5)"
   ]
  },
  {
   "attachments": {
    "image.png": {
     "image/png": "[encoded data removed]"
    }
   },
   "cell_type": "markdown",
   "metadata": {},
   "source": [
    "#### K-Nearest Neighbors\n",
    "\n",
    "Another non-parametric algorithm, KNN as it is colloquially known, imagines each input instance in a hyperdimesional space of dimensions equal to number of input variables. It calculates the distance of an input variable to each of the *k* number of nearest neighbors, and then has each neighbor \"vote\" to decide the output classification. For this reason, it is reccommended in some packages to have an odd number *k* to avoid ties.\n",
    "\n",
    "###### Advantages  \n",
    "- Intuitive and easy to implement with only *k* and distance function as possible inputs.\n",
    "- Lazy learner, as it does not learn during the training period and more training data can be added easily\n",
    "\n",
    "###### Disadvantages\n",
    "- Does not work well with large datasets or datasets with high dimensions as these will rapidly increase the complexity of the distance calculations and runtime \n",
    "\n",
    "![image.png](attachment:image.png)  \n",
    "*Example of a circle input instance classifying as a triangle with 3 neighbors, but a square with 5 neighbors*\n",
    "\n",
    "*More Info:* https://scikit-learn.org/stable/modules/neighbors.html"
   ]
  },
  {
   "cell_type": "markdown",
   "metadata": {},
   "source": [
    "### Radius Neighbors Classifier"
   ]
  },
  {
   "cell_type": "code",
   "execution_count": null,
   "metadata": {
    "scrolled": false
   },
   "outputs": [],
   "source": [
    "classification(RadiusNeighborsClassifier, x_iris, y_iris, n_jobs=50)"
   ]
  },
  {
   "cell_type": "markdown",
   "metadata": {},
   "source": [
    "##### Radius Neighbors Classifier \n",
    "\n",
    "Radius Neighbors Classifier is a type of Nearest Neighbors classifier where the radius \"r\" value is designated by the user. This is used for implementing training based on the number of neighbors within the radius of the training objects.\n",
    "\n",
    "_Same Advantages and Disadvantages as K-Nearest Neighbor._"
   ]
  },
  {
   "cell_type": "markdown",
   "metadata": {},
   "source": [
    "### Nearest Centroid Classifier"
   ]
  },
  {
   "cell_type": "code",
   "execution_count": null,
   "metadata": {},
   "outputs": [],
   "source": [
    "classification(NearestCentroid, x_iris, y_iris)"
   ]
  },
  {
   "cell_type": "markdown",
   "metadata": {},
   "source": [
    "##### Nearest Centroid Classifier\n",
    "\n",
    "The nearest centroid classifier defines each class by a single typical representative from the class, the center of each. No parameters are necessary for this algorithm, and it is similar to the KMeans labeling phase. The name of this algorithm is pretty self-explanatory; it's a solid baseline classifier.\n",
    "\n",
    "##### Advantages\n",
    "- Simple \n",
    "- Easy to use \n",
    "\n",
    "##### Disadvantages\n",
    "- Does not do well with non-convex classes\n",
    "- Does not do well when classes do not have different variances, because equal variance in all dimensions is assumed\n",
    "\n",
    "_More info:_ https://scikit-learn.org/stable/modules/neighbors.html#nearest-centroid-classifier"
   ]
  },
  {
   "cell_type": "markdown",
   "metadata": {},
   "source": [
    "### Logistic Regression Classifier"
   ]
  },
  {
   "cell_type": "code",
   "execution_count": null,
   "metadata": {
    "scrolled": false
   },
   "outputs": [],
   "source": [
    "classification(LogisticRegression, x_iris, y_iris, solver = 'newton-cg', random_state=42) "
   ]
  },
  {
   "cell_type": "markdown",
   "metadata": {},
   "source": [
    "#### Logistic Regression\n",
    "\n",
    "The cousin of linear regression, logistic regression is the classification counterpart to the popular continous algorithm. It maps predicted values from input variables to a probability that an observation belongs to a class. The probabilities are derived from the \"Sigmoid Function\" that involves as the name suggests a logorithmic transformation of the observation feature values.\n",
    "\n",
    "###### Advantages  \n",
    "- Simple, intuitive, and gives, importance of features, and versitile.\n",
    "- Quick to run\n",
    "\n",
    "###### Disadvantages\n",
    "- Can overfit on high dimensional datasets\n",
    "- Non-linear data will result in a poor or misleading model\n",
    "- Prone to errors when multicollinearity exists\n",
    "\n",
    "*More Info:* https://scikit-learn.org/stable/modules/linear_model.html#logistic-regression"
   ]
  },
  {
   "cell_type": "markdown",
   "metadata": {},
   "source": [
    "### Neural Network Multi-layer Perceptron Classifier"
   ]
  },
  {
   "cell_type": "code",
   "execution_count": null,
   "metadata": {},
   "outputs": [],
   "source": [
    "classification(MLPClassifier, x_iris, y_iris, random_state=42, max_iter=600, solver='lbfgs')"
   ]
  },
  {
   "cell_type": "markdown",
   "metadata": {},
   "source": [
    "##### Neural Network Multi-layer Perceptron Classifier\n",
    "This is a supervised learning algorithm with multiple possible hidden nonlinear layers between input and output. The algorithm is trained on features and can learn a nonlinear classification for them using the weights of the hidden layers on each feature to reduce down to the desired number of output features. \n",
    "\n",
    "##### Advantages\n",
    "- online function capability\n",
    "- compatible with nonlinear functions\n",
    "\n",
    "##### Disadvantages\n",
    "- sensitive to feature scaling\n",
    "- hyperparameters must be adjusted\n",
    "- if more than one local minimum exists, some hidden layers may have a non-convex loss function\n",
    "\n",
    "_More info:_ https://scikit-learn.org/stable/modules/neural_networks_supervised.html?highlight=neural%20network%20perceptron"
   ]
  },
  {
   "cell_type": "markdown",
   "metadata": {},
   "source": [
    "### Passive Aggressive Classifier"
   ]
  },
  {
   "cell_type": "code",
   "execution_count": null,
   "metadata": {},
   "outputs": [],
   "source": [
    "classification(PassiveAggressiveClassifier, x_iris, y_iris, random_state=42)"
   ]
  },
  {
   "cell_type": "markdown",
   "metadata": {},
   "source": [
    "##### Passive Aggressive Classifier \n",
    "The most important item to note about Passive Aggressive classifiers is that they incorporate real-time data input; they are \"online\" algorithms because the data is inputted sequentially rather than in batches. If the prediction is correct, no changes are performed on the model (passive). If the prediction is incorrect, then the model is penalized/changed to incorporate the new data (aggressive). This classifier takes a parameter \"C\" which denotes the amount of penalization when the model is incorrect. \n",
    "\n",
    "##### Advantages\n",
    "- Able to intake huge amounts of data \n",
    "- An online function\n",
    "\n",
    "##### Disadvantages\n",
    "- The end result of the classifier is heavily influenced by the order in which the data is fed to the classifier\n",
    "\n",
    "_More info:_ https://scikit-learn.org/stable/modules/linear_model.html#passive-aggressive "
   ]
  },
  {
   "cell_type": "markdown",
   "metadata": {},
   "source": [
    "## Ensemble Models"
   ]
  },
  {
   "cell_type": "markdown",
   "metadata": {},
   "source": [
    "### Random Forest Classifier"
   ]
  },
  {
   "cell_type": "code",
   "execution_count": null,
   "metadata": {},
   "outputs": [],
   "source": [
    "# Note: random_state=42 sets a seed so the results are reproducible\n",
    "classification(RandomForestClassifier, x_iris, y_iris, n_estimators=100, random_state=42)  "
   ]
  },
  {
   "cell_type": "markdown",
   "metadata": {},
   "source": [
    "##### Random Forest Classifier \n",
    "\n",
    "A random forest is an ensemble technique that fits a number of decision tree classifiers on various sub-samples of the dataset and uses averaging to improve the predictive accuracy and control over-fitting.  \n",
    "\n",
    "##### Advantages\n",
    "- handles missing values well\n",
    "- can handle big data\n",
    "- low risk of overfitting \n",
    "\n",
    "##### Disadvantages\n",
    "- cannot predict beyond the range of the training data\n",
    "\n",
    "More Info: https://scikit-learn.org/stable/modules/generated/sklearn.ensemble.RandomForestClassifier.html"
   ]
  },
  {
   "cell_type": "markdown",
   "metadata": {},
   "source": [
    "### Voting Classifier"
   ]
  },
  {
   "cell_type": "code",
   "execution_count": null,
   "metadata": {},
   "outputs": [],
   "source": [
    "clf1 = LogisticRegression(multi_class='multinomial', random_state=42)\n",
    "clf2 = KNeighborsClassifier(n_neighbors=5)\n",
    "clf3 = GaussianNB()\n",
    "estimators=[('lr', clf1), ('kn', clf2), ('gnb', clf3)]\n",
    "\n",
    "classification(VotingClassifier, x_iris, y_iris, n_jobs=50, estimators = estimators)"
   ]
  },
  {
   "cell_type": "markdown",
   "metadata": {},
   "source": [
    "##### Voting Classifier \n",
    "\n",
    "The voting classifier uses many different machine learning algorithms to determine what each algorithm would choose, and then combines each \"vote\" and makes a decision based on majority (hard vote) or average predicted probabilities (soft vote). The **Majority/Hard vote** type simply makes choices based on what the majority of classifiers choose; if there is a tie, the class is chosen in ascending order. The **Weighted Average Probabilities/Soft vote** type uses weights that are assigned to each classifier type. The probabilities of the classes are multiplied by the classifier weights, and averaged; then the class with the maximum probability is what is chosen. \n",
    "\n",
    "##### Advantages\n",
    "- Can be used with classifiers that perform equally well in order to balance out any individual weaknesses\n",
    "\n",
    "##### Disadvantages\n",
    "- Can be computationally heavy\n",
    "\n",
    "_More info:_ https://scikit-learn.org/stable/modules/ensemble.html#voting-classifier "
   ]
  },
  {
   "cell_type": "markdown",
   "metadata": {},
   "source": [
    "## Evaluate Classification Technique Results"
   ]
  },
  {
   "cell_type": "code",
   "execution_count": null,
   "metadata": {},
   "outputs": [],
   "source": [
    "accuracy_df = pd.DataFrame(accuracy_dict.items(), columns=[\"Method\", \"Accuracy\"]) \n",
    "accuracy_df"
   ]
  },
  {
   "cell_type": "code",
   "execution_count": null,
   "metadata": {},
   "outputs": [],
   "source": [
    "sorted_df = accuracy_df.sort_values(by='Accuracy', ascending=False)\n",
    "sorted_df"
   ]
  },
  {
   "cell_type": "markdown",
   "metadata": {},
   "source": [
    "## Other Analysis Techniques Employed Throughout the Term"
   ]
  },
  {
   "cell_type": "markdown",
   "metadata": {},
   "source": [
    "* EDA\n",
    "* Clustering Techniques (with and without PCA):\n",
    "    * KMeans\n",
    "    * Agglomerative\n",
    "    * DBScan\n",
    "    * Mean Shift\n",
    "    \n",
    "    \n",
    "Recall from Assignment 5, to evaluate the various clustering techniques, on both the original Iris data frame and on the corresponding PCA data frame, we used the V-measure.  This measure combines the concept of completeness (all members of a target class are in the same cluster) and homogeneity (each cluster contains only members of one target class).\n",
    "\n",
    "The results of our clustering analysis were:\n",
    "\n",
    "Method         | Data Frame | V-Measure\n",
    ":-----         | :----      | :-----\n",
    "KMeans         | Iris       | 0.90\n",
    "Kmeans         | PCA        | 0.66\n",
    "Agglomerative  | Iris       | 0.86\n",
    "Agglomerative  | PCA        | 0.68\n",
    "DBScan         | Iris       | 0.73\n",
    "DBScan         | PCA        | 0.73\n",
    "MeanShift      | Iris       | 0.73\n",
    "MeanShift      | PCA        | 0.61"
   ]
  },
  {
   "cell_type": "markdown",
   "metadata": {},
   "source": [
    "## Conclusions"
   ]
  },
  {
   "cell_type": "markdown",
   "metadata": {},
   "source": [
    "It appears the classification techniques performed better at identifying the three iris dataset classes than did the clustering techniques.  This is not surprising given that classification techniques, as a supervised learning technique, have the advantage of using the known lablels in their training vs. clustering which must rely upon the data's underlying structure to determine groupings.\n",
    "\n",
    "Of the clustering techniques, DBScan and MeanShift performed the worst.  Likely because both of these techniques emphasize high density observations surrounded by low density regions.  In the iris dataset, the Virginica and Versicolor are not cleanly separated as far as density goes so I think that is why these techniques didn't peform as well as the other techniques.\n",
    "\n",
    "Of the classification techniques, the tree-based classifiers performed the best."
   ]
  }
 ],
 "metadata": {
  "kernelspec": {
   "display_name": "Python 3",
   "language": "python",
   "name": "python3"
  },
  "language_info": {
   "codemirror_mode": {
    "name": "ipython",
    "version": 3
   },
   "file_extension": ".py",
   "mimetype": "text/x-python",
   "name": "python",
   "nbconvert_exporter": "python",
   "pygments_lexer": "ipython3",
   "version": "3.8.5"
  }
 },
 "nbformat": 4,
 "nbformat_minor": 2
}
